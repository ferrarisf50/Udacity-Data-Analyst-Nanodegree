{
 "cells": [
  {
   "cell_type": "markdown",
   "metadata": {
    "collapsed": false
   },
   "source": [
    "# Counting the route step coordinates\n",
    "\n",
    "This script is to count all OSRM route step coordinates from the training data set. The training data set has 1.4 million trips as each trip has multiple step coordinates, the output CSV will count more than 2 million coordinates. For instance, the output CSV file shows the maximum counting number is 43763 and its coordinate is -73.973249, 40.739237, which means there are 43763 trip routes from the training data that pass this coordinate. \n"
   ]
  },
  {
   "cell_type": "code",
   "execution_count": 1,
   "metadata": {
    "collapsed": true
   },
   "outputs": [],
   "source": [
    "import findspark\n",
    "findspark.init('c:/spark')\n",
    "from pyspark import SparkConf, SparkContext\n",
    "import collections\n",
    "import re\n",
    "from pyspark.sql import SparkSession\n",
    "from pyspark.sql import Row\n",
    "import pandas as pd\n",
    "import collections"
   ]
  },
  {
   "cell_type": "code",
   "execution_count": 2,
   "metadata": {
    "collapsed": true
   },
   "outputs": [],
   "source": [
    "conf = SparkConf().setMaster(\"local\").setAppName(\"Coordinates\")\n",
    "sc = SparkContext(conf = conf)"
   ]
  },
  {
   "cell_type": "code",
   "execution_count": 5,
   "metadata": {
    "collapsed": false
   },
   "outputs": [],
   "source": [
    "lines = sc.textFile(\"train_full_parsed_clean3.1.csv\")\n",
    "\n",
    "header = lines.first()\n",
    "\n",
    "header1= sc.parallelize([header])\n",
    "linesnoheader = lines.subtract(header1)"
   ]
  },
  {
   "cell_type": "code",
   "execution_count": 6,
   "metadata": {
    "collapsed": true
   },
   "outputs": [],
   "source": [
    "def loaddirection(line):\n",
    "    \n",
    "    coordinates=re.findall('(\\[\\-\\d+\\.\\d+\\,\\s\\d+\\.\\d+\\])',line)\n",
    "    return coordinates"
   ]
  },
  {
   "cell_type": "code",
   "execution_count": 7,
   "metadata": {
    "collapsed": false
   },
   "outputs": [
    {
     "data": {
      "text/plain": [
       "PythonRDD[17] at RDD at PythonRDD.scala:48"
      ]
     },
     "execution_count": 7,
     "metadata": {},
     "output_type": "execute_result"
    }
   ],
   "source": [
    "direction = lines.flatMap(loaddirection)\n",
    "direction"
   ]
  },
  {
   "cell_type": "code",
   "execution_count": 8,
   "metadata": {
    "collapsed": true
   },
   "outputs": [],
   "source": [
    "wordCounts = direction.map(lambda x: (x, 1)).reduceByKey(lambda x, y: x + y)\n",
    "wordCountsSorted = wordCounts.map(lambda x: (x[1], x[0])).sortByKey(False)\n",
    "results = wordCountsSorted.collect()"
   ]
  },
  {
   "cell_type": "code",
   "execution_count": 9,
   "metadata": {
    "collapsed": false
   },
   "outputs": [],
   "source": [
    "df=pd.DataFrame(results,columns=['count','coordinates'])"
   ]
  },
  {
   "cell_type": "code",
   "execution_count": 10,
   "metadata": {
    "collapsed": false
   },
   "outputs": [],
   "source": [
    "df['longitude']=df['coordinates'].apply(lambda x: re.findall('(-?\\d+\\.\\d+)',x)[0])\n",
    "df['latitude']=df['coordinates'].apply(lambda x: re.findall('(-?\\d+\\.\\d+)',x)[1])"
   ]
  },
  {
   "cell_type": "code",
   "execution_count": 11,
   "metadata": {
    "collapsed": false
   },
   "outputs": [
    {
     "data": {
      "text/html": [
       "<div>\n",
       "<style scoped>\n",
       "    .dataframe tbody tr th:only-of-type {\n",
       "        vertical-align: middle;\n",
       "    }\n",
       "\n",
       "    .dataframe tbody tr th {\n",
       "        vertical-align: top;\n",
       "    }\n",
       "\n",
       "    .dataframe thead th {\n",
       "        text-align: right;\n",
       "    }\n",
       "</style>\n",
       "<table border=\"1\" class=\"dataframe\">\n",
       "  <thead>\n",
       "    <tr style=\"text-align: right;\">\n",
       "      <th></th>\n",
       "      <th>count</th>\n",
       "      <th>coordinates</th>\n",
       "      <th>longitude</th>\n",
       "      <th>latitude</th>\n",
       "    </tr>\n",
       "  </thead>\n",
       "  <tbody>\n",
       "    <tr>\n",
       "      <th>0</th>\n",
       "      <td>43763</td>\n",
       "      <td>[-73.973249, 40.739237]</td>\n",
       "      <td>-73.973249</td>\n",
       "      <td>40.739237</td>\n",
       "    </tr>\n",
       "    <tr>\n",
       "      <th>1</th>\n",
       "      <td>37907</td>\n",
       "      <td>[-73.980185, 40.71098]</td>\n",
       "      <td>-73.980185</td>\n",
       "      <td>40.71098</td>\n",
       "    </tr>\n",
       "    <tr>\n",
       "      <th>2</th>\n",
       "      <td>35343</td>\n",
       "      <td>[-73.974467, 40.722333]</td>\n",
       "      <td>-73.974467</td>\n",
       "      <td>40.722333</td>\n",
       "    </tr>\n",
       "    <tr>\n",
       "      <th>3</th>\n",
       "      <td>29042</td>\n",
       "      <td>[-73.957928, 40.761162]</td>\n",
       "      <td>-73.957928</td>\n",
       "      <td>40.761162</td>\n",
       "    </tr>\n",
       "    <tr>\n",
       "      <th>4</th>\n",
       "      <td>29013</td>\n",
       "      <td>[-73.97191, 40.743309]</td>\n",
       "      <td>-73.97191</td>\n",
       "      <td>40.743309</td>\n",
       "    </tr>\n",
       "    <tr>\n",
       "      <th>5</th>\n",
       "      <td>28462</td>\n",
       "      <td>[-73.972169, 40.72622]</td>\n",
       "      <td>-73.972169</td>\n",
       "      <td>40.72622</td>\n",
       "    </tr>\n",
       "    <tr>\n",
       "      <th>6</th>\n",
       "      <td>27783</td>\n",
       "      <td>[-73.972049, 40.726193]</td>\n",
       "      <td>-73.972049</td>\n",
       "      <td>40.726193</td>\n",
       "    </tr>\n",
       "    <tr>\n",
       "      <th>7</th>\n",
       "      <td>26944</td>\n",
       "      <td>[-73.973878, 40.731708]</td>\n",
       "      <td>-73.973878</td>\n",
       "      <td>40.731708</td>\n",
       "    </tr>\n",
       "    <tr>\n",
       "      <th>8</th>\n",
       "      <td>26435</td>\n",
       "      <td>[-73.975683, 40.728454]</td>\n",
       "      <td>-73.975683</td>\n",
       "      <td>40.728454</td>\n",
       "    </tr>\n",
       "    <tr>\n",
       "      <th>9</th>\n",
       "      <td>26309</td>\n",
       "      <td>[-73.975064, 40.735925]</td>\n",
       "      <td>-73.975064</td>\n",
       "      <td>40.735925</td>\n",
       "    </tr>\n",
       "  </tbody>\n",
       "</table>\n",
       "</div>"
      ],
      "text/plain": [
       "   count              coordinates   longitude   latitude\n",
       "0  43763  [-73.973249, 40.739237]  -73.973249  40.739237\n",
       "1  37907   [-73.980185, 40.71098]  -73.980185   40.71098\n",
       "2  35343  [-73.974467, 40.722333]  -73.974467  40.722333\n",
       "3  29042  [-73.957928, 40.761162]  -73.957928  40.761162\n",
       "4  29013   [-73.97191, 40.743309]   -73.97191  40.743309\n",
       "5  28462   [-73.972169, 40.72622]  -73.972169   40.72622\n",
       "6  27783  [-73.972049, 40.726193]  -73.972049  40.726193\n",
       "7  26944  [-73.973878, 40.731708]  -73.973878  40.731708\n",
       "8  26435  [-73.975683, 40.728454]  -73.975683  40.728454\n",
       "9  26309  [-73.975064, 40.735925]  -73.975064  40.735925"
      ]
     },
     "execution_count": 11,
     "metadata": {},
     "output_type": "execute_result"
    }
   ],
   "source": [
    "df.head(10)"
   ]
  },
  {
   "cell_type": "code",
   "execution_count": 16,
   "metadata": {
    "collapsed": false
   },
   "outputs": [],
   "source": [
    "df[['count','longitude','latitude']].to_csv(\"newcounter.csv\",index=False)"
   ]
  }
 ],
 "metadata": {
  "anaconda-cloud": {},
  "kernelspec": {
   "display_name": "Python [default]",
   "language": "python",
   "name": "python3"
  },
  "language_info": {
   "codemirror_mode": {
    "name": "ipython",
    "version": 3
   },
   "file_extension": ".py",
   "mimetype": "text/x-python",
   "name": "python",
   "nbconvert_exporter": "python",
   "pygments_lexer": "ipython3",
   "version": "3.5.2"
  }
 },
 "nbformat": 4,
 "nbformat_minor": 2
}
