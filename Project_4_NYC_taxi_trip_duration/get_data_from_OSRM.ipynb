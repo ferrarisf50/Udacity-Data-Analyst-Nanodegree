{
 "cells": [
  {
   "cell_type": "markdown",
   "metadata": {},
   "source": [
    "This script retrieves all pickup and dropoff locations from train.csv, and creates a web spider which requests these direction information from OSRM. The script outputs the result to direction.csv."
   ]
  },
  {
   "cell_type": "code",
   "execution_count": 7,
   "metadata": {
    "collapsed": true
   },
   "outputs": [],
   "source": [
    "import urllib.request\n",
    "import requests\n",
    "import json\n",
    "import pandas as pd\n",
    "\n",
    "\n",
    "taxi=pd.read_csv(r\"train.csv\")\n",
    "\n",
    "\n",
    "taxi['pickup_location']=taxi['pickup_longitude'].astype(str)+','+taxi['pickup_latitude'].astype(str)\n",
    "taxi['dropoff_location']=taxi['dropoff_longitude'].astype(str)+','+taxi['dropoff_latitude'].astype(str)\n",
    "taxi['url']=\"http://router.project-osrm.org/route/v1/driving/\"+taxi['pickup_location']+\";\"+taxi['dropoff_location']+\"?geometries=geojson&overview=simplified&steps=false\"\n",
    "taxi['index1'] = taxi.index\n"
   ]
  },
  {
   "cell_type": "code",
   "execution_count": 8,
   "metadata": {
    "collapsed": false
   },
   "outputs": [
    {
     "name": "stdout",
     "output_type": "stream",
     "text": [
      "1\n"
     ]
    }
   ],
   "source": [
    "#taxi1=taxi.tail(800000)\n",
    "url1=taxi[['index1','id','url']].values.tolist()\n",
    "urls=[ tuple(i) for i in url1]\n",
    "print(len(urls))"
   ]
  },
  {
   "cell_type": "code",
   "execution_count": 9,
   "metadata": {
    "collapsed": true
   },
   "outputs": [],
   "source": [
    "def get_direction(idx,idee,url):\n",
    "        \n",
    "                json_list=[]\n",
    "                \n",
    "                headers = {'Pengchong Tang': 'my-app for kaggle.com competition'}\n",
    "                response = requests.get(url,headers=headers)\n",
    "                direction=response.content.decode('utf-8')\n",
    "\n",
    "                try:\n",
    "                    var=json.loads(direction)\n",
    "                    distance=var['routes'][0]['distance']\n",
    "                    duration=var['routes'][0]['duration']\n",
    "                    json_list.append({'id': idee,'distance': distance,'duration':duration })\n",
    "                except KeyError:\n",
    "                    json_list.append({'id': idee })\n",
    "        \n",
    "        \n",
    "                \n",
    "                if idx % 1000==0:\n",
    "                      print(str(idx)+\" done\")\n",
    "\n",
    "                return json_list"
   ]
  },
  {
   "cell_type": "code",
   "execution_count": 17,
   "metadata": {
    "collapsed": true
   },
   "outputs": [],
   "source": [
    "response = requests.get(url)\n",
    "direction=response.content.decode('utf-8')"
   ]
  },
  {
   "cell_type": "code",
   "execution_count": 18,
   "metadata": {
    "collapsed": false
   },
   "outputs": [
    {
     "data": {
      "text/plain": [
       "'{\"code\":\"NoRoute\"}'"
      ]
     },
     "execution_count": 18,
     "metadata": {},
     "output_type": "execute_result"
    }
   ],
   "source": [
    "direction"
   ]
  },
  {
   "cell_type": "code",
   "execution_count": 10,
   "metadata": {
    "collapsed": false
   },
   "outputs": [
    {
     "name": "stdout",
     "output_type": "stream",
     "text": [
      "0 done\n"
     ]
    }
   ],
   "source": [
    "import multiprocessing\n",
    " \n",
    "pool = multiprocessing.Pool(100)  \n",
    "   \n",
    "result=pool.starmap(get_direction,urls)\n",
    "pool.close()\n"
   ]
  },
  {
   "cell_type": "code",
   "execution_count": 11,
   "metadata": {
    "collapsed": true
   },
   "outputs": [],
   "source": [
    "result1=[ x[0] for x in result]\n",
    "direction_train=pd.DataFrame(result1)\n",
    "direction_train.to_csv(\"direction.csv\")"
   ]
  },
  {
   "cell_type": "code",
   "execution_count": null,
   "metadata": {
    "collapsed": true
   },
   "outputs": [],
   "source": []
  }
 ],
 "metadata": {
  "anaconda-cloud": {},
  "kernelspec": {
   "display_name": "Python [default]",
   "language": "python",
   "name": "python3"
  },
  "language_info": {
   "codemirror_mode": {
    "name": "ipython",
    "version": 3
   },
   "file_extension": ".py",
   "mimetype": "text/x-python",
   "name": "python",
   "nbconvert_exporter": "python",
   "pygments_lexer": "ipython3",
   "version": "3.5.2"
  }
 },
 "nbformat": 4,
 "nbformat_minor": 2
}
