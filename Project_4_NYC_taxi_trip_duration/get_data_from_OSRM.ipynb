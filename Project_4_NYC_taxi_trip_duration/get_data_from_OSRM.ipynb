{
 "cells": [
  {
   "cell_type": "markdown",
   "metadata": {
    "collapsed": false
   },
   "source": [
    "# Get data from OSRM\n",
    "\n",
    "The script is to request route data from OSRM http://project-osrm.org/. There are three variables will be retrieved for each trip in train data or test data: the fastest route trip duration, the fastest route trip distance and a column containing route step coordinates. We can modify the urls to request more variables from OSRM such as distance per step, I just include three variables as a start-up. "
   ]
  },
  {
   "cell_type": "code",
   "execution_count": null,
   "metadata": {
    "collapsed": true
   },
   "outputs": [],
   "source": [
    "import urllib.request\n",
    "import requests\n",
    "import json\n",
    "import pandas as pd\n",
    "import multiprocessing\n",
    "import time\n",
    "\n",
    "taxi=pd.read_csv(\"train.csv\")\n",
    "#taxi=pd.read_csv(\"test.csv\")\n",
    "\n",
    "taxi['pickup_location']=taxi['pickup_longitude'].astype(str)+','+taxi['pickup_latitude'].astype(str)\n",
    "taxi['dropoff_location']=taxi['dropoff_longitude'].astype(str)+','+taxi['dropoff_latitude'].astype(str)\n",
    "taxi['url']=\"http://router.project-osrm.org/route/v1/driving/\"+taxi['pickup_location']+\";\"+taxi['dropoff_location']+\"?geometries=geojson&overview=simplified&steps=false\"\n",
    "taxi['index1'] = taxi.index\n",
    "taxi.shape\n"
   ]
  },
  {
   "cell_type": "code",
   "execution_count": 3,
   "metadata": {
    "collapsed": true
   },
   "outputs": [],
   "source": [
    "#taxi1=taxi[0:500000]\n",
    "#url1=taxi1[['index1','id','url']].values.tolist()\n",
    "#urls=[ tuple(i) for i in url1]\n",
    "#print(len(urls))\n",
    "#print(taxi1.shape)\n",
    "\n",
    "def get_direction(idx,idee,url):\n",
    "        \n",
    "                json_list=[]\n",
    "                \n",
    "                headers = {'Pengchong Tang': 'my-app for kaggle.com competition'}\n",
    "                \n",
    "                while True:\n",
    "                    response = requests.get(url,headers=headers)\n",
    "                    direction=response.content.decode('utf-8')\n",
    "\n",
    "                    try:\n",
    "                        var=json.loads(direction)\n",
    "                        if var!={'message': 'Too Many Requests'} :\n",
    "                                distance=var['routes'][0]['distance']\n",
    "                                duration=var['routes'][0]['duration']\n",
    "                                route_coordinates=var['routes'][0]['geometry']['coordinates'] \n",
    "                                json_list.append({'id': idee,'duration': duration,'distance':distance,'route_coordinates': route_coordinates})\n",
    "                                \n",
    "                                break\n",
    "                    except :\n",
    "                        json_list.append({'id': idee })\n",
    "                        break\n",
    "\n",
    "        \n",
    "                \n",
    "                if idx % 1000==0:\n",
    "                      print(str(idx)+\" done\")\n",
    "\n",
    "                return json_list"
   ]
  },
  {
   "cell_type": "code",
   "execution_count": 6,
   "metadata": {
    "collapsed": false,
    "scrolled": true
   },
   "outputs": [
    {
     "name": "stdout",
     "output_type": "stream",
     "text": [
      "0 done\n",
      "3000 done\n",
      "6000 done\n",
      "9000 done\n",
      "12000 done\n",
      "2000 done\n",
      "5000 done\n",
      "8000 done\n",
      "14000 done\n",
      "11000 done\n",
      "10000 done\n",
      "1000 done\n",
      "4000 done\n",
      "7000 done\n",
      "13000 done\n",
      "15000 done\n",
      "18000 done\n",
      "21000 done\n",
      "24000 done\n",
      "27000 done\n",
      "17000 done\n",
      "20000 done\n",
      "23000 done\n",
      "26000 done\n",
      "29000 done\n",
      "16000 done\n",
      "19000 done\n",
      "22000 done\n",
      "25000 done\n",
      "28000 done\n",
      "30000 done\n",
      "33000 done\n",
      "39000 done\n",
      "42000 done\n",
      "36000 done\n",
      "32000 done\n",
      "35000 done\n",
      "41000 done\n",
      "44000 done\n",
      "38000 done\n",
      "31000 done\n",
      "34000 done\n",
      "45000 done\n",
      "37000 done\n",
      "43000 done\n",
      "40000 done\n",
      "48000 done\n",
      "51000 done\n",
      "47000 done\n",
      "50000 done\n",
      "54000 done\n",
      "46000 done\n",
      "57000 done\n",
      "49000 done\n",
      "53000 done\n",
      "52000 done\n",
      "56000 done\n",
      "59000 done\n",
      "55000 done\n",
      "58000 done\n"
     ]
    }
   ],
   "source": [
    "def chunker(seq, size):\n",
    "    return (seq[pos:pos + size] for pos in range(0, len(seq), size))\n",
    "\n",
    "filenum=0\n",
    "for taxi1 in chunker(taxi,60000):\n",
    "    if filenum >=1:\n",
    "        url1=taxi1[['index1','id','url']].values.tolist()\n",
    "        urls=[ tuple(i) for i in url1]\n",
    "\n",
    "        pool = multiprocessing.Pool(100)  # Number of CPUs\n",
    "\n",
    "        result=pool.starmap(get_direction,urls)\n",
    "        pool.close()\n",
    "\n",
    "        result1=[ x[0] for x in result]\n",
    "        direction_train=pd.DataFrame(result1)\n",
    "        filename=\"direction\"+str(filenum)+\".csv\"\n",
    "        direction_train.to_csv(filename,index=False)\n",
    "    \n",
    "    filenum+=1"
   ]
  },
  {
   "cell_type": "code",
   "execution_count": null,
   "metadata": {
    "collapsed": true
   },
   "outputs": [],
   "source": []
  }
 ],
 "metadata": {
  "anaconda-cloud": {},
  "kernelspec": {
   "display_name": "Python [default]",
   "language": "python",
   "name": "python3"
  },
  "language_info": {
   "codemirror_mode": {
    "name": "ipython",
    "version": 3
   },
   "file_extension": ".py",
   "mimetype": "text/x-python",
   "name": "python",
   "nbconvert_exporter": "python",
   "pygments_lexer": "ipython3",
   "version": "3.5.2"
  }
 },
 "nbformat": 4,
 "nbformat_minor": 2
}
