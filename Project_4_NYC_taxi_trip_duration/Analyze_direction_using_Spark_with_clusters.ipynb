{
 "cells": [
  {
   "cell_type": "code",
   "execution_count": null,
   "metadata": {
    "collapsed": true
   },
   "outputs": [],
   "source": [
    "import findspark\n",
    "findspark.init('c:/spark')\n",
    "from pyspark import SparkConf, SparkContext\n",
    "import collections\n",
    "import re\n",
    "from pyspark.sql import SparkSession\n",
    "from pyspark.sql import Row\n",
    "import pandas as pd\n",
    "import collections\n",
    "from pyspark.ml.linalg import Vectors\n",
    "from sklearn.cluster import MiniBatchKMeans, KMeans\n",
    "import numpy as np"
   ]
  },
  {
   "cell_type": "code",
   "execution_count": null,
   "metadata": {
    "collapsed": false
   },
   "outputs": [],
   "source": [
    "spark = SparkSession.builder.config(\"spark.sql.warehouse.dir\", \"C:/temp\").appName(\"SparkSQL\").getOrCreate()"
   ]
  },
  {
   "cell_type": "code",
   "execution_count": null,
   "metadata": {
    "collapsed": false
   },
   "outputs": [],
   "source": [
    "inputLines = spark.sparkContext.textFile(\"train_full_parsed_clean5.1.csv\")"
   ]
  },
  {
   "cell_type": "code",
   "execution_count": null,
   "metadata": {
    "collapsed": false
   },
   "outputs": [],
   "source": [
    "header=inputLines.filter(lambda l: \"_id\" in l)"
   ]
  },
  {
   "cell_type": "code",
   "execution_count": null,
   "metadata": {
    "collapsed": false
   },
   "outputs": [],
   "source": [
    "header.collect()"
   ]
  },
  {
   "cell_type": "code",
   "execution_count": null,
   "metadata": {
    "collapsed": true
   },
   "outputs": [],
   "source": [
    "linesnoheader = inputLines.subtract(header)"
   ]
  },
  {
   "cell_type": "code",
   "execution_count": 7,
   "metadata": {
    "collapsed": false
   },
   "outputs": [
    {
     "data": {
      "text/plain": [
       "['6.3157195997906035,6.285998094508865,-73.98565673828125,40.7317008972168,-73.99915313720702,40.7443962097168,1813.181999421452,2314.5,0,0,0,0.0,0.0,0.0,0.0,0.0,0.0,0.0,0.0,0.0,0.0,0.0,0.0,0.0,0.0,0.0,0.0,0.0,0.0,0.0,0.0,0.0,0.0,1.0,0.0,0.0,1.0,0.0,0.0,0.0,0.0,0.0,0.0,0.0,0.0,0.0,1.0,0.0,0.0,1.0,0.0,0.0,0.0,0.0,0.0,0.0,\"[[-73.985631, 40.731737], [-73.989868, 40.733528], [-73.9899, 40.734447], [-74.002491, 40.739745], [-73.999144, 40.744392]]\"',\n",
       " '6.0748861552470546,6.324358962381311,-73.95960235595702,40.777099609375,-73.9454345703125,40.77409744262695,1239.172234033006,1853.9,0,0,1,0.0,0.0,0.0,0.0,0.0,0.0,0.0,1.0,0.0,0.0,0.0,0.0,0.0,0.0,0.0,0.0,0.0,0.0,0.0,0.0,0.0,0.0,0.0,0.0,0.0,0.0,0.0,0.0,1.0,0.0,0.0,0.0,0.0,0.0,0.0,0.0,1.0,0.0,0.0,0.0,1.0,0.0,0.0,0.0,0.0,\"[[-73.959587, 40.777094], [-73.960619, 40.775675], [-73.948072, 40.770417], [-73.945393, 40.77408]]\"']"
      ]
     },
     "execution_count": 7,
     "metadata": {},
     "output_type": "execute_result"
    }
   ],
   "source": [
    "linesnoheader.take(2)"
   ]
  },
  {
   "cell_type": "code",
   "execution_count": 6,
   "metadata": {
    "collapsed": false
   },
   "outputs": [],
   "source": [
    "coord=pd.read_csv('route_coord_count.csv')\n",
    "kmeans = MiniBatchKMeans(n_clusters=100, batch_size=10000).fit(coord[['longitude','latitude']])\n",
    "coord.loc[:, 'cluster'] = kmeans.predict(coord[['longitude','latitude']])"
   ]
  },
  {
   "cell_type": "code",
   "execution_count": 7,
   "metadata": {
    "collapsed": false
   },
   "outputs": [],
   "source": [
    "cluster=coord['cluster'].tolist()\n",
    "\n",
    "cluster_name=['C'+str(i) for i in range(100)]\n"
   ]
  },
  {
   "cell_type": "code",
   "execution_count": 8,
   "metadata": {
    "collapsed": false
   },
   "outputs": [],
   "source": [
    "def topcoordinates(line):\n",
    "    coordinates=re.findall('(\\[\\-\\d+\\.\\d+\\,\\s\\d+\\.\\d+\\])',line)\n",
    "    \n",
    "    line_cluster=[]\n",
    "    for i in coordinates:\n",
    "            temp=re.split('\\[|, |\\]',i)\n",
    "            long=float(temp[1])\n",
    "            lat=float(temp[2])\n",
    "            cluster_group=kmeans.predict([[long,lat]])\n",
    "            line_cluster+=[cluster_group[0]]\n",
    "\n",
    "    line_cluster=list(set(line_cluster))\n",
    "    all_cluster=[ 1 if i in line_cluster else 0 for i in range(100)]\n",
    "        \n",
    "    \n",
    "    \n",
    "    \n",
    "    feature=line.split(',')\n",
    "    feature1=[float(i) for i in feature[:56]]\n",
    "    feature2=[int(i) for i in feature1[8:56]]\n",
    "    feature3=feature1[:8]\n",
    "    return feature3+feature2+all_cluster\n",
    "\n",
    "    "
   ]
  },
  {
   "cell_type": "code",
   "execution_count": 13,
   "metadata": {
    "collapsed": false
   },
   "outputs": [],
   "source": [
    "a='6.3157195997906035,6.285998094508865,-73.98565673828125,40.7317008972168,-73.99915313720702,40.7443962097168,1813.181999421452,2314.5,0,0,0,0.0,0.0,0.0,0.0,0.0,0.0,0.0,0.0,0.0,0.0,0.0,0.0,0.0,0.0,0.0,0.0,0.0,0.0,0.0,0.0,0.0,0.0,1.0,0.0,0.0,1.0,0.0,0.0,0.0,0.0,0.0,0.0,0.0,0.0,0.0,1.0,0.0,0.0,1.0,0.0,0.0,0.0,0.0,0.0,0.0,\"[[-73.985631, 40.731737], [-73.989868, 40.733528], [-73.9899, 40.734447], [-74.002491, 40.739745], [-73.999144, 40.744392]]\"'\n",
    "coordinates=re.findall('(\\[\\-\\d+\\.\\d+\\,\\s\\d+\\.\\d+\\])',a)\n",
    "line_cluster=[]\n",
    "for i in coordinates:\n",
    "        temp=re.split('\\[|, |\\]',i)\n",
    "        long=float(temp[1])\n",
    "        lat=float(temp[2])\n",
    "        cluster_group=kmeans.predict([[long,lat]])\n",
    "        line_cluster+=[cluster_group[0]]\n",
    "        \n",
    "line_cluster=list(set(line_cluster))\n",
    "all_cluster=[ 1 if i in line_cluster else 0 for i in range(100)]"
   ]
  },
  {
   "cell_type": "code",
   "execution_count": 15,
   "metadata": {
    "collapsed": false
   },
   "outputs": [
    {
     "data": {
      "text/plain": [
       "[3, 97, 83, 45]"
      ]
     },
     "execution_count": 15,
     "metadata": {},
     "output_type": "execute_result"
    }
   ],
   "source": [
    "line_cluster"
   ]
  },
  {
   "cell_type": "code",
   "execution_count": 9,
   "metadata": {
    "collapsed": false
   },
   "outputs": [],
   "source": [
    "coord = linesnoheader.map(topcoordinates)"
   ]
  },
  {
   "cell_type": "code",
   "execution_count": 10,
   "metadata": {
    "collapsed": false
   },
   "outputs": [],
   "source": [
    "feature=['log_duration', 'log_trip_duration', 'pickup_longitude', 'pickup_latitude',\n",
    "       'dropoff_longitude', 'dropoff_latitude', 'great_circle_distance','distance',\n",
    "       'snow', 'holiday', 'vendor_id', 'pickup_hour_0',\n",
    "       'pickup_hour_1', 'pickup_hour_2', 'pickup_hour_3', 'pickup_hour_4',\n",
    "       'pickup_hour_5', 'pickup_hour_6', 'pickup_hour_7', 'pickup_hour_8',\n",
    "       'pickup_hour_9', 'pickup_hour_10', 'pickup_hour_11',\n",
    "       'pickup_hour_12', 'pickup_hour_13', 'pickup_hour_14',\n",
    "       'pickup_hour_15', 'pickup_hour_16', 'pickup_hour_17',\n",
    "       'pickup_hour_18', 'pickup_hour_19', 'pickup_hour_20',\n",
    "       'pickup_hour_21', 'pickup_hour_22', 'pickup_hour_23',\n",
    "       'pickup_weekday_0', 'pickup_weekday_1', 'pickup_weekday_2',\n",
    "       'pickup_weekday_3', 'pickup_weekday_4', 'pickup_weekday_5',\n",
    "       'pickup_weekday_6', 'pickup_month_1', 'pickup_month_2',\n",
    "       'pickup_month_3', 'pickup_month_4', 'pickup_month_5',\n",
    "       'pickup_month_6', 'passenger_count_0', 'passenger_count_1',\n",
    "       'passenger_count_2', 'passenger_count_3', 'passenger_count_4',\n",
    "       'passenger_count_5', 'passenger_count_6', 'passenger_count_7']\n",
    "colNames=feature+cluster_name"
   ]
  },
  {
   "cell_type": "code",
   "execution_count": 11,
   "metadata": {
    "collapsed": false
   },
   "outputs": [
    {
     "data": {
      "text/plain": [
       "['log_duration',\n",
       " 'log_trip_duration',\n",
       " 'pickup_longitude',\n",
       " 'pickup_latitude',\n",
       " 'dropoff_longitude',\n",
       " 'dropoff_latitude',\n",
       " 'great_circle_distance',\n",
       " 'distance',\n",
       " 'snow',\n",
       " 'holiday',\n",
       " 'vendor_id',\n",
       " 'pickup_hour_0',\n",
       " 'pickup_hour_1',\n",
       " 'pickup_hour_2',\n",
       " 'pickup_hour_3',\n",
       " 'pickup_hour_4',\n",
       " 'pickup_hour_5',\n",
       " 'pickup_hour_6',\n",
       " 'pickup_hour_7',\n",
       " 'pickup_hour_8',\n",
       " 'pickup_hour_9',\n",
       " 'pickup_hour_10',\n",
       " 'pickup_hour_11',\n",
       " 'pickup_hour_12',\n",
       " 'pickup_hour_13',\n",
       " 'pickup_hour_14',\n",
       " 'pickup_hour_15',\n",
       " 'pickup_hour_16',\n",
       " 'pickup_hour_17',\n",
       " 'pickup_hour_18',\n",
       " 'pickup_hour_19',\n",
       " 'pickup_hour_20',\n",
       " 'pickup_hour_21',\n",
       " 'pickup_hour_22',\n",
       " 'pickup_hour_23',\n",
       " 'pickup_weekday_0',\n",
       " 'pickup_weekday_1',\n",
       " 'pickup_weekday_2',\n",
       " 'pickup_weekday_3',\n",
       " 'pickup_weekday_4',\n",
       " 'pickup_weekday_5',\n",
       " 'pickup_weekday_6',\n",
       " 'pickup_month_1',\n",
       " 'pickup_month_2',\n",
       " 'pickup_month_3',\n",
       " 'pickup_month_4',\n",
       " 'pickup_month_5',\n",
       " 'pickup_month_6',\n",
       " 'passenger_count_0',\n",
       " 'passenger_count_1',\n",
       " 'passenger_count_2',\n",
       " 'passenger_count_3',\n",
       " 'passenger_count_4',\n",
       " 'passenger_count_5',\n",
       " 'passenger_count_6',\n",
       " 'passenger_count_7',\n",
       " 'C0',\n",
       " 'C1',\n",
       " 'C2',\n",
       " 'C3',\n",
       " 'C4',\n",
       " 'C5',\n",
       " 'C6',\n",
       " 'C7',\n",
       " 'C8',\n",
       " 'C9',\n",
       " 'C10',\n",
       " 'C11',\n",
       " 'C12',\n",
       " 'C13',\n",
       " 'C14',\n",
       " 'C15',\n",
       " 'C16',\n",
       " 'C17',\n",
       " 'C18',\n",
       " 'C19',\n",
       " 'C20',\n",
       " 'C21',\n",
       " 'C22',\n",
       " 'C23',\n",
       " 'C24',\n",
       " 'C25',\n",
       " 'C26',\n",
       " 'C27',\n",
       " 'C28',\n",
       " 'C29',\n",
       " 'C30',\n",
       " 'C31',\n",
       " 'C32',\n",
       " 'C33',\n",
       " 'C34',\n",
       " 'C35',\n",
       " 'C36',\n",
       " 'C37',\n",
       " 'C38',\n",
       " 'C39',\n",
       " 'C40',\n",
       " 'C41',\n",
       " 'C42',\n",
       " 'C43',\n",
       " 'C44',\n",
       " 'C45',\n",
       " 'C46',\n",
       " 'C47',\n",
       " 'C48',\n",
       " 'C49',\n",
       " 'C50',\n",
       " 'C51',\n",
       " 'C52',\n",
       " 'C53',\n",
       " 'C54',\n",
       " 'C55',\n",
       " 'C56',\n",
       " 'C57',\n",
       " 'C58',\n",
       " 'C59',\n",
       " 'C60',\n",
       " 'C61',\n",
       " 'C62',\n",
       " 'C63',\n",
       " 'C64',\n",
       " 'C65',\n",
       " 'C66',\n",
       " 'C67',\n",
       " 'C68',\n",
       " 'C69',\n",
       " 'C70',\n",
       " 'C71',\n",
       " 'C72',\n",
       " 'C73',\n",
       " 'C74',\n",
       " 'C75',\n",
       " 'C76',\n",
       " 'C77',\n",
       " 'C78',\n",
       " 'C79',\n",
       " 'C80',\n",
       " 'C81',\n",
       " 'C82',\n",
       " 'C83',\n",
       " 'C84',\n",
       " 'C85',\n",
       " 'C86',\n",
       " 'C87',\n",
       " 'C88',\n",
       " 'C89',\n",
       " 'C90',\n",
       " 'C91',\n",
       " 'C92',\n",
       " 'C93',\n",
       " 'C94',\n",
       " 'C95',\n",
       " 'C96',\n",
       " 'C97',\n",
       " 'C98',\n",
       " 'C99']"
      ]
     },
     "execution_count": 11,
     "metadata": {},
     "output_type": "execute_result"
    }
   ],
   "source": [
    "colNames"
   ]
  },
  {
   "cell_type": "code",
   "execution_count": 12,
   "metadata": {
    "collapsed": false
   },
   "outputs": [],
   "source": [
    "train = coord.toDF(colNames)"
   ]
  },
  {
   "cell_type": "code",
   "execution_count": null,
   "metadata": {
    "collapsed": true
   },
   "outputs": [],
   "source": [
    "train.write.csv(\"train_full_parsed_clean5.csv\",header = 'true')"
   ]
  },
  {
   "cell_type": "code",
   "execution_count": 13,
   "metadata": {
    "collapsed": true
   },
   "outputs": [],
   "source": [
    "train.repartition(1).write.format('com.databricks.spark.csv').save('csv_cluster.csv',header = 'true')"
   ]
  },
  {
   "cell_type": "code",
   "execution_count": 22,
   "metadata": {
    "collapsed": false
   },
   "outputs": [],
   "source": [
    "train.repartition(40).write.parquet('parquet_cluster_40_files')"
   ]
  },
  {
   "cell_type": "code",
   "execution_count": null,
   "metadata": {
    "collapsed": false
   },
   "outputs": [],
   "source": [
    "from pyspark.ml import Pipeline\n",
    "from pyspark.ml.regression import GBTRegressor\n",
    "from pyspark.ml.feature import VectorIndexer\n",
    "from pyspark.ml.feature import VectorAssembler\n",
    "from pyspark.ml.evaluation import RegressionEvaluator\n",
    "from pyspark.ml.feature import OneHotEncoder"
   ]
  },
  {
   "cell_type": "code",
   "execution_count": null,
   "metadata": {
    "collapsed": false
   },
   "outputs": [],
   "source": [
    "feature_col=colNames[0:1]+colNames[2:]\n",
    "vecAssembler = VectorAssembler(inputCols=feature_col, outputCol=\"features\")\n"
   ]
  },
  {
   "cell_type": "code",
   "execution_count": null,
   "metadata": {
    "collapsed": true
   },
   "outputs": [],
   "source": [
    "(trainingData, testData) = train.randomSplit([0.8, 0.2],seed=42)"
   ]
  },
  {
   "cell_type": "code",
   "execution_count": null,
   "metadata": {
    "collapsed": false
   },
   "outputs": [],
   "source": [
    "\n",
    "gbt = GBTRegressor(featuresCol=\"features\",labelCol=\"log_trip_duration\",maxIter=10,maxDepth=10, seed=42)\n",
    "\n",
    "# Chain indexer and GBT in a Pipeline\n",
    "pipeline = Pipeline(stages=[vecAssembler,gbt])\n",
    "\n",
    "# Train model.  This also runs the indexer.\n",
    "model = pipeline.fit(trainingData)"
   ]
  },
  {
   "cell_type": "code",
   "execution_count": null,
   "metadata": {
    "collapsed": false
   },
   "outputs": [],
   "source": [
    "from pyspark.mllib.tree import GradientBoostedTrees, GradientBoostedTreesModel\n",
    "from pyspark.mllib.util import MLUtils\n",
    "\n",
    "model = GradientBoostedTrees.trainRegressor(trainingData,\n",
    "                                             categoricalFeaturesInfo={}, numIterations=3)"
   ]
  },
  {
   "cell_type": "code",
   "execution_count": null,
   "metadata": {
    "collapsed": true
   },
   "outputs": [],
   "source": []
  }
 ],
 "metadata": {
  "anaconda-cloud": {},
  "kernelspec": {
   "display_name": "Python [default]",
   "language": "python",
   "name": "python3"
  },
  "language_info": {
   "codemirror_mode": {
    "name": "ipython",
    "version": 3
   },
   "file_extension": ".py",
   "mimetype": "text/x-python",
   "name": "python",
   "nbconvert_exporter": "python",
   "pygments_lexer": "ipython3",
   "version": "3.5.2"
  }
 },
 "nbformat": 4,
 "nbformat_minor": 2
}
