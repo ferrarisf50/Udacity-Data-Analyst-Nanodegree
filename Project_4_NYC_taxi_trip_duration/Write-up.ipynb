{
 "cells": [
  {
   "cell_type": "markdown",
   "metadata": {},
   "source": [
    "# New York City Taxi Trip Duration Project"
   ]
  },
  {
   "cell_type": "markdown",
   "metadata": {},
   "source": [
    "### Summary\n",
    "\n",
    "The project is inspired by Kaggle.com competition. The goal is to analyze 1.4 million taxi trips from Jan 2016 to Jun 2016, and explore any factor that affects the trip duration. The dataset I use for this project is the file train.csv provided within the competition. \n",
    "\n"
   ]
  },
  {
   "cell_type": "markdown",
   "metadata": {},
   "source": [
    "### Design\n",
    "\n",
    "\n",
    "The raw dataset train.csv contains 1458644 trip records. After reading several public EDA  kernels, I noticed there is a portion of unreasonable trips that should be removed from the dataset. I don't have enough information to tell why some extreme trips happen, but in my intuition, I created some criteria to restrict the trips speed distance etc. also use for cleaning the raw data (See the scripts). The cleaned dataset contains 1449431 trip records so I almost removed 10000 rows from the raw training data."
   ]
  },
  {
   "cell_type": "markdown",
   "metadata": {},
   "source": [
    "The Tableau story see below:\n",
    "\n",
    "[https://public.tableau.com/profile/pengchong.tang#!/vizhome/taxi2/Story1](https://public.tableau.com/profile/pengchong.tang#!/vizhome/taxi2/Story1)"
   ]
  },
  {
   "cell_type": "markdown",
   "metadata": {},
   "source": [
    "My presentation consists of 6 dashboard. The first dashboard is introduction and the last dashboard is references and information. So I create 4 pages of dashboard to describe the story about NYC taxi trip duration with topics to be discussed: geographical view, weather and holidays, time distribution and miscellaneous factors."
   ]
  },
  {
   "cell_type": "markdown",
   "metadata": {},
   "source": [
    "### References\n",
    "\n",
    "\n",
    "Kaggle.com competition page:\n",
    "\n",
    "[https://www.kaggle.com/c/nyc-taxi-trip-duration](https://www.kaggle.com/c/nyc-taxi-trip-duration)\n",
    "\n",
    "Weather Data:\n",
    "\n",
    "[https://www.kaggle.com/mathijs/weather-data-in-new-york-city-2016](https://www.kaggle.com/mathijs/weather-data-in-new-york-city-2016)\n",
    "\n",
    "Route Data Source:\n",
    "\n",
    "[http://project-osrm.org/](http://project-osrm.org/)\n",
    "\n",
    "OSRM API documentation:\n",
    "\n",
    "[http://project-osrm.org/docs/v5.5.1/api/#general-options](http://project-osrm.org/docs/v5.5.1/api/#general-options)"
   ]
  },
  {
   "cell_type": "code",
   "execution_count": null,
   "metadata": {},
   "outputs": [],
   "source": []
  }
 ],
 "metadata": {
  "kernelspec": {
   "display_name": "Python 3",
   "language": "python",
   "name": "python3"
  },
  "language_info": {
   "codemirror_mode": {
    "name": "ipython",
    "version": 3
   },
   "file_extension": ".py",
   "mimetype": "text/x-python",
   "name": "python",
   "nbconvert_exporter": "python",
   "pygments_lexer": "ipython3",
   "version": "3.6.3"
  }
 },
 "nbformat": 4,
 "nbformat_minor": 2
}
