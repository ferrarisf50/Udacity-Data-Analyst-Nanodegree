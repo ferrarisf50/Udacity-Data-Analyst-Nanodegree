{
 "cells": [
  {
   "cell_type": "code",
   "execution_count": 65,
   "metadata": {
    "collapsed": true
   },
   "outputs": [],
   "source": [
    "import findspark\n",
    "findspark.init('c:/spark')\n",
    "from pyspark import SparkConf, SparkContext\n",
    "import collections\n",
    "import re\n",
    "from pyspark.sql import SparkSession\n",
    "from pyspark.sql import Row\n",
    "import pandas as pd\n",
    "import collections\n",
    "from pyspark.ml.linalg import Vectors\n",
    "from sklearn.cluster import MiniBatchKMeans, KMeans\n",
    "import numpy as np"
   ]
  },
  {
   "cell_type": "code",
   "execution_count": 66,
   "metadata": {
    "collapsed": false
   },
   "outputs": [],
   "source": [
    "spark = SparkSession.builder.config(\"spark.sql.warehouse.dir\", \"C:/temp\").appName(\"SparkSQL\").getOrCreate()"
   ]
  },
  {
   "cell_type": "code",
   "execution_count": 67,
   "metadata": {
    "collapsed": false
   },
   "outputs": [],
   "source": [
    "#inputLines = spark.sparkContext.textFile(\"test1.csv\")\n",
    "inputLines = spark.sparkContext.textFile(\"train_full_parsed_clean3.1.csv\")\n",
    "#inputLines = spark.sparkContext.textFile(\"train_full_parsed_clean5.csv\")"
   ]
  },
  {
   "cell_type": "code",
   "execution_count": 68,
   "metadata": {
    "collapsed": false
   },
   "outputs": [],
   "source": [
    "header=inputLines.filter(lambda l: \"_id\" in l)"
   ]
  },
  {
   "cell_type": "code",
   "execution_count": 69,
   "metadata": {
    "collapsed": false
   },
   "outputs": [
    {
     "data": {
      "text/plain": [
       "['id,trip_duration,vendor_id,pickup_datetime,pickup_longitude,pickup_latitude,dropoff_longitude,dropoff_latitude,great_circle_distance,duration,speed,speed_great_circle,hour_count,passenger_count,pickup_hour,pickup_weekday,pickup_month,snow,holiday,distance,route_cooridnates']"
      ]
     },
     "execution_count": 69,
     "metadata": {},
     "output_type": "execute_result"
    }
   ],
   "source": [
    "header.collect()"
   ]
  },
  {
   "cell_type": "code",
   "execution_count": 70,
   "metadata": {
    "collapsed": true
   },
   "outputs": [],
   "source": [
    "linesnoheader = inputLines.subtract(header)"
   ]
  },
  {
   "cell_type": "code",
   "execution_count": 71,
   "metadata": {
    "collapsed": false
   },
   "outputs": [
    {
     "data": {
      "text/plain": [
       "['id2187720,428,2,2016-02-03 03:50:49,-74.00108337402342,40.7391014099121,-73.98416137695312,40.72916030883789,1804.6226836023934,529.8,17.3885046728972,15.179069301328546,795,2,3,2,2,0,0,2067.3,\"[[-74.001057, 40.739136], [-73.990717, 40.734794], [-73.991462, 40.731745], [-73.98444, 40.728783], [-73.984159, 40.729159]]\"']"
      ]
     },
     "execution_count": 71,
     "metadata": {},
     "output_type": "execute_result"
    }
   ],
   "source": [
    "linesnoheader.take(1)"
   ]
  },
  {
   "cell_type": "code",
   "execution_count": 82,
   "metadata": {
    "collapsed": false
   },
   "outputs": [],
   "source": [
    "#coord=pd.read_csv('route_coord_count.csv')\n",
    "coord=pd.read_csv('newcounter.csv')\n",
    "\n",
    "kmeans = MiniBatchKMeans(n_clusters=100, batch_size=10000,random_state=1234).fit(coord[['longitude','latitude']])\n",
    "coord.loc[:, 'cluster'] = kmeans.predict(coord[['longitude','latitude']])"
   ]
  },
  {
   "cell_type": "code",
   "execution_count": 73,
   "metadata": {
    "collapsed": false
   },
   "outputs": [],
   "source": [
    "cluster=coord['cluster'].tolist()\n",
    "\n",
    "cluster_name=['C'+str(i) for i in range(100)]\n"
   ]
  },
  {
   "cell_type": "code",
   "execution_count": 39,
   "metadata": {
    "collapsed": false
   },
   "outputs": [],
   "source": [
    "def topcoordinates(line):\n",
    "    coordinates=re.findall('(\\[\\-\\d+\\.\\d+\\,\\s\\d+\\.\\d+\\])',line)\n",
    "    line_cluster=[]\n",
    "    speed_great_circle=line.split(',')[11]\n",
    "    hour_count=line.split(',')[12]\n",
    "    for i in coordinates:\n",
    "        temp=re.split('\\[|, |\\]',i)\n",
    "        long=float(temp[1])\n",
    "        lat=float(temp[2])\n",
    "        cluster_group=kmeans.predict([[long,lat]])\n",
    "        line_cluster+=[cluster_group[0]]\n",
    "        \n",
    "    line_cluster=list(set(line_cluster))\n",
    "    all_cluster=[ float(speed_great_circle) if i in line_cluster else np.nan for i in range(100)]\n",
    "        \n",
    "    \n",
    "    \n",
    "    \n",
    "\n",
    "    return [int(hour_count)]+all_cluster\n",
    "\n",
    "    "
   ]
  },
  {
   "cell_type": "code",
   "execution_count": 83,
   "metadata": {
    "collapsed": false
   },
   "outputs": [],
   "source": [
    "line= 'id2187720,428,2,2016-02-03 03:50:49,-74.00108337402342,40.7391014099121,-73.98416137695312,40.72916030883789,1804.6226836023934,529.8,17.3885046728972,15.179069301328546,795,2,3,2,2,0,0,2067.3,\"[[-74.001057, 40.739136], [-73.990717, 40.734794], [-73.991462, 40.731745], [-73.98444, 40.728783], [-73.984159, 40.729159]]\"'\n",
    "coordinates=re.findall('(\\[\\-\\d+\\.\\d+\\,\\s\\d+\\.\\d+\\])',line)\n",
    "line_cluster=[]\n",
    "speed_great_circle=line.split(',')[11]\n",
    "hour_count=line.split(',')[12]\n",
    "for i in coordinates:\n",
    "        temp=re.split('\\[|, |\\]',i)\n",
    "        long=float(temp[1])\n",
    "        lat=float(temp[2])\n",
    "        cluster_group=kmeans.predict([[long,lat]])\n",
    "        line_cluster+=[cluster_group[0]]\n",
    "        \n",
    "line_cluster=list(set(line_cluster))\n",
    "all_cluster=[ float(speed_great_circle) if i in line_cluster else np.nan for i in range(100)]\n",
    "\n"
   ]
  },
  {
   "cell_type": "code",
   "execution_count": 84,
   "metadata": {
    "collapsed": false
   },
   "outputs": [
    {
     "data": {
      "text/plain": [
       "[90, 74, 39]"
      ]
     },
     "execution_count": 84,
     "metadata": {},
     "output_type": "execute_result"
    }
   ],
   "source": [
    "line_cluster"
   ]
  },
  {
   "cell_type": "code",
   "execution_count": 40,
   "metadata": {
    "collapsed": false
   },
   "outputs": [],
   "source": [
    "coord = linesnoheader.map(topcoordinates)"
   ]
  },
  {
   "cell_type": "code",
   "execution_count": 41,
   "metadata": {
    "collapsed": false
   },
   "outputs": [],
   "source": [
    "feature=['hour_count']\n",
    "colNames=feature+cluster_name"
   ]
  },
  {
   "cell_type": "code",
   "execution_count": 42,
   "metadata": {
    "collapsed": false
   },
   "outputs": [],
   "source": [
    "cluster_name=['C'+str(i) for i in range(100)]"
   ]
  },
  {
   "cell_type": "code",
   "execution_count": 43,
   "metadata": {
    "collapsed": false
   },
   "outputs": [],
   "source": [
    "train = coord.toDF(colNames)"
   ]
  },
  {
   "cell_type": "code",
   "execution_count": 45,
   "metadata": {
    "collapsed": false
   },
   "outputs": [],
   "source": [
    "#train.repartition(40).write.parquet('parquet_cluster_40_files')\n",
    "train.repartition(1).write.csv('speed_cluster')"
   ]
  },
  {
   "cell_type": "code",
   "execution_count": 46,
   "metadata": {
    "collapsed": false
   },
   "outputs": [],
   "source": [
    "train=pd.read_csv('speed_cluster.csv',names=colNames)"
   ]
  },
  {
   "cell_type": "code",
   "execution_count": 47,
   "metadata": {
    "collapsed": false
   },
   "outputs": [
    {
     "data": {
      "text/plain": [
       "24188     NaN\n",
       "91615     NaN\n",
       "94352     NaN\n",
       "104120    NaN\n",
       "108097    NaN\n",
       "125212    NaN\n",
       "145020    NaN\n",
       "145080    NaN\n",
       "212678    NaN\n",
       "242480    NaN\n",
       "251979    NaN\n",
       "255074    NaN\n",
       "294639    NaN\n",
       "303726    NaN\n",
       "342591    NaN\n",
       "392934    NaN\n",
       "394577    NaN\n",
       "403635    NaN\n",
       "436261    NaN\n",
       "450891    NaN\n",
       "529559    NaN\n",
       "636174    NaN\n",
       "683498    NaN\n",
       "724865    NaN\n",
       "851287    NaN\n",
       "853583    NaN\n",
       "900161    NaN\n",
       "911814    NaN\n",
       "918261    NaN\n",
       "991878    NaN\n",
       "1041174   NaN\n",
       "1153390   NaN\n",
       "1159574   NaN\n",
       "1177202   NaN\n",
       "1196635   NaN\n",
       "1276059   NaN\n",
       "1329760   NaN\n",
       "1373090   NaN\n",
       "1380796   NaN\n",
       "1440398   NaN\n",
       "Name: C40, dtype: float64"
      ]
     },
     "execution_count": 47,
     "metadata": {},
     "output_type": "execute_result"
    }
   ],
   "source": [
    "train.loc[train.hour_count==795 , 'C40']"
   ]
  },
  {
   "cell_type": "code",
   "execution_count": 16,
   "metadata": {
    "collapsed": false
   },
   "outputs": [
    {
     "data": {
      "text/plain": [
       "22.0753715"
      ]
     },
     "execution_count": 16,
     "metadata": {},
     "output_type": "execute_result"
    }
   ],
   "source": [
    "(23.600927+20.549816)/2"
   ]
  },
  {
   "cell_type": "code",
   "execution_count": 60,
   "metadata": {
    "collapsed": false
   },
   "outputs": [
    {
     "data": {
      "text/html": [
       "<div>\n",
       "<style scoped>\n",
       "    .dataframe tbody tr th:only-of-type {\n",
       "        vertical-align: middle;\n",
       "    }\n",
       "\n",
       "    .dataframe tbody tr th {\n",
       "        vertical-align: top;\n",
       "    }\n",
       "\n",
       "    .dataframe thead th {\n",
       "        text-align: right;\n",
       "    }\n",
       "</style>\n",
       "<table border=\"1\" class=\"dataframe\">\n",
       "  <thead>\n",
       "    <tr style=\"text-align: right;\">\n",
       "      <th></th>\n",
       "      <th>id</th>\n",
       "      <th>trip_duration</th>\n",
       "      <th>vendor_id</th>\n",
       "      <th>pickup_datetime</th>\n",
       "      <th>pickup_longitude</th>\n",
       "      <th>pickup_latitude</th>\n",
       "      <th>dropoff_longitude</th>\n",
       "      <th>dropoff_latitude</th>\n",
       "      <th>great_circle_distance</th>\n",
       "      <th>duration</th>\n",
       "      <th>speed</th>\n",
       "      <th>speed_great_circle</th>\n",
       "      <th>hour_count</th>\n",
       "      <th>passenger_count</th>\n",
       "      <th>pickup_hour</th>\n",
       "      <th>pickup_weekday</th>\n",
       "      <th>pickup_month</th>\n",
       "      <th>snow</th>\n",
       "      <th>holiday</th>\n",
       "      <th>distance</th>\n",
       "      <th>route_cooridnates</th>\n",
       "    </tr>\n",
       "  </thead>\n",
       "  <tbody>\n",
       "    <tr>\n",
       "      <th>0</th>\n",
       "      <td>id2875421</td>\n",
       "      <td>455</td>\n",
       "      <td>2</td>\n",
       "      <td>2016-03-14 17:24:55</td>\n",
       "      <td>-73.982155</td>\n",
       "      <td>40.767937</td>\n",
       "      <td>-73.964630</td>\n",
       "      <td>40.765602</td>\n",
       "      <td>1498.942981</td>\n",
       "      <td>421.6</td>\n",
       "      <td>15.889055</td>\n",
       "      <td>11.859769</td>\n",
       "      <td>1769</td>\n",
       "      <td>1</td>\n",
       "      <td>17</td>\n",
       "      <td>0</td>\n",
       "      <td>3</td>\n",
       "      <td>0</td>\n",
       "      <td>0</td>\n",
       "      <td>2008.2</td>\n",
       "      <td>[[-73.982316, 40.767869], [-73.982163, 40.7677...</td>\n",
       "    </tr>\n",
       "    <tr>\n",
       "      <th>1</th>\n",
       "      <td>id2377394</td>\n",
       "      <td>663</td>\n",
       "      <td>1</td>\n",
       "      <td>2016-06-12 00:43:35</td>\n",
       "      <td>-73.980415</td>\n",
       "      <td>40.738564</td>\n",
       "      <td>-73.999481</td>\n",
       "      <td>40.731152</td>\n",
       "      <td>1806.015862</td>\n",
       "      <td>587.0</td>\n",
       "      <td>13.653394</td>\n",
       "      <td>9.806421</td>\n",
       "      <td>3912</td>\n",
       "      <td>1</td>\n",
       "      <td>0</td>\n",
       "      <td>6</td>\n",
       "      <td>6</td>\n",
       "      <td>0</td>\n",
       "      <td>0</td>\n",
       "      <td>2514.5</td>\n",
       "      <td>[[-73.980421, 40.738566], [-73.984941, 40.7323...</td>\n",
       "    </tr>\n",
       "  </tbody>\n",
       "</table>\n",
       "</div>"
      ],
      "text/plain": [
       "          id  trip_duration  vendor_id      pickup_datetime  pickup_longitude  \\\n",
       "0  id2875421            455          2  2016-03-14 17:24:55        -73.982155   \n",
       "1  id2377394            663          1  2016-06-12 00:43:35        -73.980415   \n",
       "\n",
       "   pickup_latitude  dropoff_longitude  dropoff_latitude  \\\n",
       "0        40.767937         -73.964630         40.765602   \n",
       "1        40.738564         -73.999481         40.731152   \n",
       "\n",
       "   great_circle_distance  duration      speed  speed_great_circle  hour_count  \\\n",
       "0            1498.942981     421.6  15.889055           11.859769        1769   \n",
       "1            1806.015862     587.0  13.653394            9.806421        3912   \n",
       "\n",
       "   passenger_count  pickup_hour  pickup_weekday  pickup_month  snow  holiday  \\\n",
       "0                1           17               0             3     0        0   \n",
       "1                1            0               6             6     0        0   \n",
       "\n",
       "   distance                                  route_cooridnates  \n",
       "0    2008.2  [[-73.982316, 40.767869], [-73.982163, 40.7677...  \n",
       "1    2514.5  [[-73.980421, 40.738566], [-73.984941, 40.7323...  "
      ]
     },
     "execution_count": 60,
     "metadata": {},
     "output_type": "execute_result"
    }
   ],
   "source": [
    "pd.set_option('max_columns', 200)\n",
    "train.head(2)"
   ]
  },
  {
   "cell_type": "code",
   "execution_count": 48,
   "metadata": {
    "collapsed": true
   },
   "outputs": [],
   "source": [
    "df=train.groupby('hour_count').median()"
   ]
  },
  {
   "cell_type": "code",
   "execution_count": 50,
   "metadata": {
    "collapsed": false
   },
   "outputs": [],
   "source": [
    "df.to_csv('hour_sopeed_cluster.csv')"
   ]
  },
  {
   "cell_type": "code",
   "execution_count": 53,
   "metadata": {
    "collapsed": false
   },
   "outputs": [],
   "source": [
    "train=pd.read_csv('train_full_parsed_clean3.1.csv')"
   ]
  },
  {
   "cell_type": "code",
   "execution_count": 56,
   "metadata": {
    "collapsed": false
   },
   "outputs": [
    {
     "name": "stdout",
     "output_type": "stream",
     "text": [
      "<class 'pandas.core.frame.DataFrame'>\n",
      "RangeIndex: 1457392 entries, 0 to 1457391\n",
      "Data columns (total 21 columns):\n",
      "id                       1457392 non-null object\n",
      "trip_duration            1457392 non-null int64\n",
      "vendor_id                1457392 non-null int64\n",
      "pickup_datetime          1457392 non-null object\n",
      "pickup_longitude         1457392 non-null float64\n",
      "pickup_latitude          1457392 non-null float64\n",
      "dropoff_longitude        1457392 non-null float64\n",
      "dropoff_latitude         1457392 non-null float64\n",
      "great_circle_distance    1457392 non-null float64\n",
      "duration                 1457392 non-null float64\n",
      "speed                    1457392 non-null float64\n",
      "speed_great_circle       1457392 non-null float64\n",
      "hour_count               1457392 non-null int64\n",
      "passenger_count          1457392 non-null int64\n",
      "pickup_hour              1457392 non-null int64\n",
      "pickup_weekday           1457392 non-null int64\n",
      "pickup_month             1457392 non-null int64\n",
      "snow                     1457392 non-null int64\n",
      "holiday                  1457392 non-null int64\n",
      "distance                 1457392 non-null float64\n",
      "route_cooridnates        1457392 non-null object\n",
      "dtypes: float64(9), int64(9), object(3)\n",
      "memory usage: 233.5+ MB\n"
     ]
    }
   ],
   "source": [
    "train.info()"
   ]
  },
  {
   "cell_type": "code",
   "execution_count": 64,
   "metadata": {
    "collapsed": false
   },
   "outputs": [],
   "source": [
    "train.loc[(train.pickup_longitude==-74.00108337402342) & (train.dropoff_longitude==-73.98416137695312)].to_csv(\"test1.csv\",index=False)"
   ]
  },
  {
   "cell_type": "code",
   "execution_count": null,
   "metadata": {
    "collapsed": true
   },
   "outputs": [],
   "source": []
  }
 ],
 "metadata": {
  "anaconda-cloud": {},
  "kernelspec": {
   "display_name": "Python [default]",
   "language": "python",
   "name": "python3"
  },
  "language_info": {
   "codemirror_mode": {
    "name": "ipython",
    "version": 3
   },
   "file_extension": ".py",
   "mimetype": "text/x-python",
   "name": "python",
   "nbconvert_exporter": "python",
   "pygments_lexer": "ipython3",
   "version": "3.5.2"
  }
 },
 "nbformat": 4,
 "nbformat_minor": 2
}
