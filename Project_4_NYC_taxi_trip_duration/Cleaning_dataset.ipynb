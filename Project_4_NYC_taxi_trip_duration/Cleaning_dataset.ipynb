{
 "cells": [
  {
   "cell_type": "markdown",
   "metadata": {},
   "source": [
    "This workbook is intent to assess and clean the full_train dataset, remove missing and invalid trip."
   ]
  },
  {
   "cell_type": "code",
   "execution_count": 1,
   "metadata": {
    "collapsed": false
   },
   "outputs": [],
   "source": [
    "import pandas as pd\n",
    "import numpy as np\n",
    "from geopy.distance import great_circle\n",
    "pd.set_option(\"max_colwidth\",1000000)\n",
    "pd.set_option('max_columns', 50)"
   ]
  },
  {
   "cell_type": "code",
   "execution_count": 2,
   "metadata": {
    "collapsed": false
   },
   "outputs": [],
   "source": [
    "train=pd.read_csv(\"full_train_parsed.csv\")"
   ]
  },
  {
   "cell_type": "code",
   "execution_count": 3,
   "metadata": {
    "collapsed": false
   },
   "outputs": [
    {
     "name": "stdout",
     "output_type": "stream",
     "text": [
      "<class 'pandas.core.frame.DataFrame'>\n",
      "RangeIndex: 1458644 entries, 0 to 1458643\n",
      "Data columns (total 22 columns):\n",
      "id                     1458644 non-null object\n",
      "vendor_id              1458644 non-null int64\n",
      "pickup_datetime        1458644 non-null object\n",
      "dropoff_datetime       1458644 non-null object\n",
      "passenger_count        1458644 non-null int64\n",
      "pickup_longitude       1458644 non-null float64\n",
      "pickup_latitude        1458644 non-null float64\n",
      "dropoff_longitude      1458644 non-null float64\n",
      "dropoff_latitude       1458644 non-null float64\n",
      "store_and_fwd_flag     1458644 non-null object\n",
      "trip_duration          1458644 non-null int64\n",
      "pickup_date            1458644 non-null object\n",
      "date                   1458644 non-null object\n",
      "maximum temperature    1458644 non-null int64\n",
      "minimum temperature    1458644 non-null int64\n",
      "average temperature    1458644 non-null float64\n",
      "precipitation          1458644 non-null object\n",
      "snow fall              1458644 non-null object\n",
      "snow depth             1458644 non-null object\n",
      "distance               1458643 non-null float64\n",
      "duration               1458643 non-null float64\n",
      "route_cooridnates      1458643 non-null object\n",
      "dtypes: float64(7), int64(5), object(10)\n",
      "memory usage: 244.8+ MB\n"
     ]
    }
   ],
   "source": [
    "train.info()"
   ]
  },
  {
   "cell_type": "markdown",
   "metadata": {},
   "source": [
    "Calculate a great circle distance between pickup location and dropoff location. Create speed columns"
   ]
  },
  {
   "cell_type": "code",
   "execution_count": 4,
   "metadata": {
    "collapsed": false
   },
   "outputs": [],
   "source": [
    "train['great_circle_distance']=train.apply(lambda row: great_circle((row['pickup_latitude'],row['pickup_longitude']),(row['dropoff_latitude'],row['dropoff_longitude'])).meters,axis=1)\n",
    "train['speed']=train['distance']/train['trip_duration']*3.6\n",
    "train['speed_fast_route']=train['distance']/train['duration']*3.6\n",
    "train['speed_great_circle']=train['great_circle_distance']/train['trip_duration']*3.6\n"
   ]
  },
  {
   "cell_type": "markdown",
   "metadata": {},
   "source": [
    "Remove pickup_date since it's the same day as weather report date."
   ]
  },
  {
   "cell_type": "code",
   "execution_count": 5,
   "metadata": {
    "collapsed": false
   },
   "outputs": [],
   "source": [
    "del train['pickup_date']"
   ]
  },
  {
   "cell_type": "markdown",
   "metadata": {},
   "source": [
    "Remove a row where the fastest route information is missing. "
   ]
  },
  {
   "cell_type": "code",
   "execution_count": 6,
   "metadata": {
    "collapsed": false
   },
   "outputs": [
    {
     "data": {
      "text/html": [
       "<div>\n",
       "<table border=\"1\" class=\"dataframe\">\n",
       "  <thead>\n",
       "    <tr style=\"text-align: right;\">\n",
       "      <th></th>\n",
       "      <th>id</th>\n",
       "      <th>vendor_id</th>\n",
       "      <th>pickup_datetime</th>\n",
       "      <th>dropoff_datetime</th>\n",
       "      <th>passenger_count</th>\n",
       "      <th>pickup_longitude</th>\n",
       "      <th>pickup_latitude</th>\n",
       "      <th>dropoff_longitude</th>\n",
       "      <th>dropoff_latitude</th>\n",
       "      <th>store_and_fwd_flag</th>\n",
       "      <th>trip_duration</th>\n",
       "      <th>date</th>\n",
       "      <th>maximum temperature</th>\n",
       "      <th>minimum temperature</th>\n",
       "      <th>average temperature</th>\n",
       "      <th>precipitation</th>\n",
       "      <th>snow fall</th>\n",
       "      <th>snow depth</th>\n",
       "      <th>distance</th>\n",
       "      <th>duration</th>\n",
       "      <th>route_cooridnates</th>\n",
       "      <th>great_circle_distance</th>\n",
       "      <th>speed</th>\n",
       "      <th>speed_fast_route</th>\n",
       "      <th>speed_great_circle</th>\n",
       "    </tr>\n",
       "  </thead>\n",
       "  <tbody>\n",
       "    <tr>\n",
       "      <th>482448</th>\n",
       "      <td>id2767091</td>\n",
       "      <td>1</td>\n",
       "      <td>2016-04-29 02:46:41</td>\n",
       "      <td>2016-04-29 02:48:38</td>\n",
       "      <td>1</td>\n",
       "      <td>-73.993896</td>\n",
       "      <td>40.751396</td>\n",
       "      <td>-73.993866</td>\n",
       "      <td>40.751396</td>\n",
       "      <td>N</td>\n",
       "      <td>117</td>\n",
       "      <td>2016-04-29</td>\n",
       "      <td>58</td>\n",
       "      <td>45</td>\n",
       "      <td>51.5</td>\n",
       "      <td>0.05</td>\n",
       "      <td>0.0</td>\n",
       "      <td>0</td>\n",
       "      <td>NaN</td>\n",
       "      <td>NaN</td>\n",
       "      <td>NaN</td>\n",
       "      <td>2.571391</td>\n",
       "      <td>NaN</td>\n",
       "      <td>NaN</td>\n",
       "      <td>0.07912</td>\n",
       "    </tr>\n",
       "  </tbody>\n",
       "</table>\n",
       "</div>"
      ],
      "text/plain": [
       "               id  vendor_id      pickup_datetime     dropoff_datetime  \\\n",
       "482448  id2767091          1  2016-04-29 02:46:41  2016-04-29 02:48:38   \n",
       "\n",
       "        passenger_count  pickup_longitude  pickup_latitude  dropoff_longitude  \\\n",
       "482448                1        -73.993896        40.751396         -73.993866   \n",
       "\n",
       "        dropoff_latitude store_and_fwd_flag  trip_duration        date  \\\n",
       "482448         40.751396                  N            117  2016-04-29   \n",
       "\n",
       "        maximum temperature  minimum temperature  average temperature  \\\n",
       "482448                   58                   45                 51.5   \n",
       "\n",
       "       precipitation snow fall snow depth  distance  duration  \\\n",
       "482448          0.05       0.0          0       NaN       NaN   \n",
       "\n",
       "       route_cooridnates  great_circle_distance  speed  speed_fast_route  \\\n",
       "482448               NaN               2.571391    NaN               NaN   \n",
       "\n",
       "        speed_great_circle  \n",
       "482448             0.07912  "
      ]
     },
     "execution_count": 6,
     "metadata": {},
     "output_type": "execute_result"
    }
   ],
   "source": [
    "train[train['distance'].isnull()]"
   ]
  },
  {
   "cell_type": "code",
   "execution_count": 7,
   "metadata": {
    "collapsed": false
   },
   "outputs": [
    {
     "name": "stdout",
     "output_type": "stream",
     "text": [
      "(1458643, 25)\n"
     ]
    }
   ],
   "source": [
    "train=train[train['distance'].notnull()]\n",
    "print(train.shape)"
   ]
  },
  {
   "cell_type": "markdown",
   "metadata": {
    "collapsed": true
   },
   "source": [
    "### Define criteria to clean the data\n",
    "\n",
    "#### 1. Great circle distance must be larger than zero:\n",
    "\n",
    "\n",
    "     great_circle_distance>0\n",
    "\n",
    "\n",
    "#### 2. Great circle speed is in the range of 0km/h to 120km/h. I think the average speed for a taxi is higher than 120km/h is almost impossible.\n",
    "\n",
    "\n",
    "     0<speed_great_circle<120\n",
    "     \n",
    "     \n",
    "#### 3. Trip duration must be larger than zero.\n",
    "\n",
    "\n",
    "     trip_duration>0\n",
    " \n",
    " \n",
    "#### 4. Check any route where the great circel distance is smaller than the fastest route, which is impossible. In fact, I think an measure error less than 25 meters is still acceptable.\n",
    "\n",
    "\n",
    "     distance>=great_circel_distance-25\n",
    "     \n",
    "     \n",
    "#### 5. From 2 and 4, we can infer the criteria for the speed if the driver takes the fastest route.\n",
    "\n",
    "\n",
    "     speed>=speed_great_circle-90/trip_duration and speed+90/trip_duration<120\n",
    "     \n",
    "     \n",
    "#### 6. There are extreme trips should be removed: long duration low speed and short duration high speed.\n",
    "\n",
    "\n",
    "    Remove speed_great_circle<5 and trip_duration>3600*5\n",
    "    Remove speed_great_circle>80 and trip_duration<30\n",
    "    \n",
    "    \n",
    "#### 7. Finally, we should remove one trip that occurs in San Francisco.\n",
    "\n",
    "\n",
    "    -80<pickup_longitude<-68\n",
    "     "
   ]
  },
  {
   "cell_type": "code",
   "execution_count": 8,
   "metadata": {
    "collapsed": false
   },
   "outputs": [
    {
     "name": "stdout",
     "output_type": "stream",
     "text": [
      "(1452746, 25)\n",
      "(1452610, 25)\n",
      "(1452610, 25)\n",
      "(1452549, 25)\n",
      "(1451532, 25)\n",
      "(1449464, 25)\n",
      "(1449433, 25)\n",
      "(1449431, 25)\n",
      "(1449431, 25)\n"
     ]
    }
   ],
   "source": [
    "train=train[train['great_circle_distance']>0]\n",
    "print(train.shape)\n",
    "train=train[(train['speed_great_circle']>0) & (train['speed_great_circle']<120) ]\n",
    "print(train.shape)\n",
    "train=train[train['trip_duration']>0]\n",
    "print(train.shape)\n",
    "train=train[train['distance']>=train['great_circle_distance']-25]\n",
    "print(train.shape)\n",
    "train=train[(train['speed']>=train['speed_great_circle']-90/train['trip_duration']) & (train['speed']+90/train['trip_duration']<120) ]\n",
    "print(train.shape)\n",
    "train=train[((train['speed_great_circle']<5) & (train['trip_duration']>3600*5))!=True]\n",
    "print(train.shape)\n",
    "train=train[((train['speed_great_circle']>80) & (train['trip_duration']<30))!=True]\n",
    "print(train.shape)\n",
    "train=train[(train['pickup_longitude']>-80) & (train['pickup_longitude']<-68)]\n",
    "print(train.shape)\n",
    "train=train[(train['dropoff_longitude']>-80) & (train['dropoff_longitude']<-68)]\n",
    "print(train.shape)"
   ]
  },
  {
   "cell_type": "code",
   "execution_count": 14,
   "metadata": {
    "collapsed": false
   },
   "outputs": [],
   "source": [
    "train['snow fall']=train['snow fall'].apply(lambda x: 0.001 if x=='T' else x)\n",
    "train['precipitation']=train['precipitation'].apply(lambda x: 0.001 if x=='T' else x)\n",
    "train['snow depth']=train['snow depth'].apply(lambda x: 0.001 if x=='T' else x)"
   ]
  },
  {
   "cell_type": "code",
   "execution_count": 16,
   "metadata": {
    "collapsed": false
   },
   "outputs": [],
   "source": [
    "train.to_csv(\"train_full_parsed_clean2.csv\",index=False)"
   ]
  },
  {
   "cell_type": "code",
   "execution_count": null,
   "metadata": {
    "collapsed": true
   },
   "outputs": [],
   "source": []
  }
 ],
 "metadata": {
  "anaconda-cloud": {},
  "kernelspec": {
   "display_name": "Python [default]",
   "language": "python",
   "name": "python3"
  },
  "language_info": {
   "codemirror_mode": {
    "name": "ipython",
    "version": 3
   },
   "file_extension": ".py",
   "mimetype": "text/x-python",
   "name": "python",
   "nbconvert_exporter": "python",
   "pygments_lexer": "ipython3",
   "version": "3.5.2"
  }
 },
 "nbformat": 4,
 "nbformat_minor": 1
}
