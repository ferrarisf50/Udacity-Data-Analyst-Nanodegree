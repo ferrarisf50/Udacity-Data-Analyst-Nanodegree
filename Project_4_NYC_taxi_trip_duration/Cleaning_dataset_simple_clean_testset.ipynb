{
 "cells": [
  {
   "cell_type": "markdown",
   "metadata": {},
   "source": [
    "This workbook is intent to assess and clean the full_train dataset, remove missing and invalid trip."
   ]
  },
  {
   "cell_type": "code",
   "execution_count": 1,
   "metadata": {
    "collapsed": false
   },
   "outputs": [],
   "source": [
    "import pandas as pd\n",
    "import numpy as np\n",
    "from geopy.distance import great_circle\n",
    "pd.set_option(\"max_colwidth\",1000000)\n",
    "pd.set_option('max_columns', 50)\n",
    "import datetime\n"
   ]
  },
  {
   "cell_type": "code",
   "execution_count": 3,
   "metadata": {
    "collapsed": false
   },
   "outputs": [
    {
     "name": "stderr",
     "output_type": "stream",
     "text": [
      "C:\\Users\\ferra\\Anaconda3\\lib\\site-packages\\IPython\\core\\interactiveshell.py:2717: DtypeWarning: Columns (17,18,19) have mixed types. Specify dtype option on import or set low_memory=False.\n",
      "  interactivity=interactivity, compiler=compiler, result=result)\n"
     ]
    }
   ],
   "source": [
    "train=pd.read_csv(\"full_test_parsed.csv\")"
   ]
  },
  {
   "cell_type": "code",
   "execution_count": 4,
   "metadata": {
    "collapsed": false
   },
   "outputs": [
    {
     "name": "stdout",
     "output_type": "stream",
     "text": [
      "<class 'pandas.core.frame.DataFrame'>\n",
      "RangeIndex: 625134 entries, 0 to 625133\n",
      "Data columns (total 20 columns):\n",
      "id                     625134 non-null object\n",
      "vendor_id              625134 non-null int64\n",
      "pickup_datetime        625134 non-null object\n",
      "passenger_count        625134 non-null int64\n",
      "pickup_longitude       625134 non-null float64\n",
      "pickup_latitude        625134 non-null float64\n",
      "dropoff_longitude      625134 non-null float64\n",
      "dropoff_latitude       625134 non-null float64\n",
      "store_and_fwd_flag     625134 non-null object\n",
      "distance               625134 non-null float64\n",
      "duration               625134 non-null float64\n",
      "route_coordinates      625134 non-null object\n",
      "pickup_date            625134 non-null object\n",
      "date                   625134 non-null object\n",
      "maximum temperature    625134 non-null int64\n",
      "minimum temperature    625134 non-null int64\n",
      "average temperature    625134 non-null float64\n",
      "precipitation          625134 non-null object\n",
      "snow fall              625134 non-null object\n",
      "snow depth             625134 non-null object\n",
      "dtypes: float64(7), int64(4), object(9)\n",
      "memory usage: 95.4+ MB\n"
     ]
    }
   ],
   "source": [
    "train.info()"
   ]
  },
  {
   "cell_type": "code",
   "execution_count": 6,
   "metadata": {
    "collapsed": false
   },
   "outputs": [],
   "source": [
    "train['pickup_datetime'] = pd.to_datetime(train.pickup_datetime)\n",
    "train['pickup_hour'] = train['pickup_datetime'].dt.hour\n",
    "train['pickup_weekday'] = train['pickup_datetime'].dt.weekday\n",
    "train['pickup_month']=train['pickup_datetime'].dt.month\n",
    "train['snow depth']=train['snow depth'].apply(lambda x: float(x) if x!='T' else 0.001)\n",
    "train['snow']=train['snow depth'].apply(lambda x: 1 if x>0.01 else 0)\n",
    "\n",
    "\n",
    "\n",
    "def holiday(x):\n",
    "    x1=x.date()\n",
    "    if x1 in (datetime.date(2016,1,18),datetime.date(2016,2,15),datetime.date(2016,5,30),datetime.date(2016,5,28),datetime.date(2016,6,19)):\n",
    "        return 1\n",
    "    else:\n",
    "        return 0\n",
    "    \n",
    "train['holiday']=train['pickup_datetime'].apply(lambda x: holiday(x)) "
   ]
  },
  {
   "cell_type": "code",
   "execution_count": 7,
   "metadata": {
    "collapsed": false
   },
   "outputs": [],
   "source": [
    "train['great_circle_distance']=train.apply(lambda row: great_circle((row['pickup_latitude'],row['pickup_longitude']),(row['dropoff_latitude'],row['dropoff_longitude'])).meters,axis=1)"
   ]
  },
  {
   "cell_type": "code",
   "execution_count": 8,
   "metadata": {
    "collapsed": true
   },
   "outputs": [],
   "source": [
    "def hour_count(date,hour):\n",
    "    return (date.date()-datetime.date(2016,1,1)).days*24+hour\n",
    "\n",
    "train['hour_count']=train.apply(lambda row: hour_count(row['pickup_datetime'],row['pickup_hour']),axis=1)"
   ]
  },
  {
   "cell_type": "code",
   "execution_count": 9,
   "metadata": {
    "collapsed": false
   },
   "outputs": [],
   "source": [
    "feature=['id','vendor_id','pickup_datetime','pickup_longitude','pickup_latitude','dropoff_longitude','dropoff_latitude',\n",
    "        'great_circle_distance','duration','hour_count','passenger_count','pickup_hour','pickup_weekday','pickup_month','snow','holiday',\n",
    "        'distance','route_coordinates']\n",
    "train[feature].to_csv(\"test_full_parsed_clean0.1.csv\",index=False)"
   ]
  },
  {
   "cell_type": "code",
   "execution_count": null,
   "metadata": {
    "collapsed": true
   },
   "outputs": [],
   "source": [
    "features_test=['id','vendor_id','pickup_longitude','pickup_latitude','dropoff_longitude','dropoff_latitude',\n",
    "        'great_circle_distance','duration','passenger_count','pickup_hour','pickup_weekday','pickup_month','snow','holiday',\n",
    "        'distance','route_coordinates']\n",
    "test=pd.read_csv(\"test_full_parsed_clean0.1.csv\",usecols=features_test)"
   ]
  },
  {
   "cell_type": "code",
   "execution_count": 10,
   "metadata": {
    "collapsed": false
   },
   "outputs": [
    {
     "data": {
      "text/plain": [
       "passenger_count\n",
       "0        23\n",
       "1    443447\n",
       "2     90027\n",
       "3     25686\n",
       "4     12017\n",
       "5     33411\n",
       "6     20521\n",
       "9         2\n",
       "dtype: int64"
      ]
     },
     "execution_count": 10,
     "metadata": {},
     "output_type": "execute_result"
    }
   ],
   "source": [
    "train.groupby('passenger_count').size()"
   ]
  },
  {
   "cell_type": "code",
   "execution_count": 11,
   "metadata": {
    "collapsed": false
   },
   "outputs": [
    {
     "name": "stderr",
     "output_type": "stream",
     "text": [
      "C:\\Users\\ferra\\Anaconda3\\lib\\site-packages\\pandas\\core\\indexing.py:132: SettingWithCopyWarning: \n",
      "A value is trying to be set on a copy of a slice from a DataFrame\n",
      "\n",
      "See the caveats in the documentation: http://pandas.pydata.org/pandas-docs/stable/indexing.html#indexing-view-versus-copy\n",
      "  self._setitem_with_indexer(indexer, value)\n"
     ]
    }
   ],
   "source": [
    "train['passenger_count'].loc[train['passenger_count'] == 9] = 7"
   ]
  },
  {
   "cell_type": "code",
   "execution_count": 12,
   "metadata": {
    "collapsed": false
   },
   "outputs": [],
   "source": [
    "def transformation(train,istrain):\n",
    "    \n",
    "    train['vendor_id'] = train['vendor_id'].map( {1: 0, 2: 1} ).astype(int)\n",
    "    \n",
    "    temp = pd.get_dummies(train['pickup_hour'],prefix='pickup_hour')\n",
    "    train = pd.concat([train,temp],axis=1)\n",
    "    train = train.drop([\"pickup_hour\"], axis=1)\n",
    "\n",
    "    temp = pd.get_dummies(train['pickup_weekday'],prefix='pickup_weekday')\n",
    "    train = pd.concat([train,temp],axis=1)\n",
    "    train = train.drop([\"pickup_weekday\"], axis=1)\n",
    "\n",
    "    temp = pd.get_dummies(train['pickup_month'],prefix='pickup_month')\n",
    "    train = pd.concat([train,temp],axis=1)\n",
    "    train = train.drop([\"pickup_month\"], axis=1)\n",
    "\n",
    "    temp = pd.get_dummies(train['passenger_count'],prefix='passenger_count')\n",
    "    train = pd.concat([train,temp],axis=1)\n",
    "    train = train.drop([\"passenger_count\"], axis=1)\n",
    "    \n",
    "    train['log_duration']=np.log(train['duration'].values+1)\n",
    "    train=train.drop([\"duration\"], axis=1)\n",
    "    if istrain==\"Y\":\n",
    "        train['log_trip_duration']=np.log(train['trip_duration'].values+1)\n",
    "        train=train.drop([\"trip_duration\"], axis=1)\n",
    "    \n",
    "    return train"
   ]
  },
  {
   "cell_type": "code",
   "execution_count": 13,
   "metadata": {
    "collapsed": false
   },
   "outputs": [],
   "source": [
    "train=transformation(train,istrain=\"N\")"
   ]
  },
  {
   "cell_type": "code",
   "execution_count": 15,
   "metadata": {
    "collapsed": false
   },
   "outputs": [
    {
     "data": {
      "text/plain": [
       "(625134, 68)"
      ]
     },
     "execution_count": 15,
     "metadata": {},
     "output_type": "execute_result"
    }
   ],
   "source": [
    "train.shape"
   ]
  },
  {
   "cell_type": "code",
   "execution_count": 17,
   "metadata": {
    "collapsed": false
   },
   "outputs": [],
   "source": [
    "feature_out=['id','log_duration','pickup_longitude', 'pickup_latitude',\n",
    "       'dropoff_longitude', 'dropoff_latitude', 'great_circle_distance','distance','hour_count',\n",
    "       'snow', 'holiday', 'vendor_id', 'pickup_hour_0',\n",
    "       'pickup_hour_1', 'pickup_hour_2', 'pickup_hour_3', 'pickup_hour_4',\n",
    "       'pickup_hour_5', 'pickup_hour_6', 'pickup_hour_7', 'pickup_hour_8',\n",
    "       'pickup_hour_9', 'pickup_hour_10', 'pickup_hour_11',\n",
    "       'pickup_hour_12', 'pickup_hour_13', 'pickup_hour_14',\n",
    "       'pickup_hour_15', 'pickup_hour_16', 'pickup_hour_17',\n",
    "       'pickup_hour_18', 'pickup_hour_19', 'pickup_hour_20',\n",
    "       'pickup_hour_21', 'pickup_hour_22', 'pickup_hour_23',\n",
    "       'pickup_weekday_0', 'pickup_weekday_1', 'pickup_weekday_2',\n",
    "       'pickup_weekday_3', 'pickup_weekday_4', 'pickup_weekday_5',\n",
    "       'pickup_weekday_6', 'pickup_month_1', 'pickup_month_2',\n",
    "       'pickup_month_3', 'pickup_month_4', 'pickup_month_5',\n",
    "       'pickup_month_6', 'passenger_count_0', 'passenger_count_1',\n",
    "       'passenger_count_2', 'passenger_count_3', 'passenger_count_4',\n",
    "       'passenger_count_5', 'passenger_count_6', 'passenger_count_7',\n",
    "       'route_coordinates']\n",
    "train.to_csv(\"test_full_parsed_clean2.1.csv\",index=False, columns=feature_out)"
   ]
  }
 ],
 "metadata": {
  "anaconda-cloud": {},
  "kernelspec": {
   "display_name": "Python [default]",
   "language": "python",
   "name": "python3"
  },
  "language_info": {
   "codemirror_mode": {
    "name": "ipython",
    "version": 3
   },
   "file_extension": ".py",
   "mimetype": "text/x-python",
   "name": "python",
   "nbconvert_exporter": "python",
   "pygments_lexer": "ipython3",
   "version": "3.5.2"
  }
 },
 "nbformat": 4,
 "nbformat_minor": 1
}
