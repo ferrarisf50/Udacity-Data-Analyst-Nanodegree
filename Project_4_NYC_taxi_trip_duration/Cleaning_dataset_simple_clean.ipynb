{
 "cells": [
  {
   "cell_type": "markdown",
   "metadata": {},
   "source": [
    "This workbook is intent to assess and clean the full_train dataset, remove missing and invalid trip."
   ]
  },
  {
   "cell_type": "code",
   "execution_count": 1,
   "metadata": {
    "collapsed": false
   },
   "outputs": [],
   "source": [
    "import pandas as pd\n",
    "import numpy as np\n",
    "from geopy.distance import great_circle\n",
    "pd.set_option(\"max_colwidth\",1000000)\n",
    "pd.set_option('max_columns', 50)\n",
    "import datetime\n",
    "from geopy.distance import great_circle"
   ]
  },
  {
   "cell_type": "code",
   "execution_count": 2,
   "metadata": {
    "collapsed": false
   },
   "outputs": [],
   "source": [
    "train=pd.read_csv(\"full_train_parsed.csv\")"
   ]
  },
  {
   "cell_type": "code",
   "execution_count": 3,
   "metadata": {
    "collapsed": false
   },
   "outputs": [
    {
     "name": "stdout",
     "output_type": "stream",
     "text": [
      "<class 'pandas.core.frame.DataFrame'>\n",
      "RangeIndex: 1458644 entries, 0 to 1458643\n",
      "Data columns (total 22 columns):\n",
      "id                     1458644 non-null object\n",
      "vendor_id              1458644 non-null int64\n",
      "pickup_datetime        1458644 non-null object\n",
      "dropoff_datetime       1458644 non-null object\n",
      "passenger_count        1458644 non-null int64\n",
      "pickup_longitude       1458644 non-null float64\n",
      "pickup_latitude        1458644 non-null float64\n",
      "dropoff_longitude      1458644 non-null float64\n",
      "dropoff_latitude       1458644 non-null float64\n",
      "store_and_fwd_flag     1458644 non-null object\n",
      "trip_duration          1458644 non-null int64\n",
      "pickup_date            1458644 non-null object\n",
      "date                   1458644 non-null object\n",
      "maximum temperature    1458644 non-null int64\n",
      "minimum temperature    1458644 non-null int64\n",
      "average temperature    1458644 non-null float64\n",
      "precipitation          1458644 non-null object\n",
      "snow fall              1458644 non-null object\n",
      "snow depth             1458644 non-null object\n",
      "distance               1458643 non-null float64\n",
      "duration               1458643 non-null float64\n",
      "route_cooridnates      1458643 non-null object\n",
      "dtypes: float64(7), int64(5), object(10)\n",
      "memory usage: 244.8+ MB\n"
     ]
    }
   ],
   "source": [
    "train.info()"
   ]
  },
  {
   "cell_type": "markdown",
   "metadata": {},
   "source": [
    "Calculate a great circle distance between pickup location and dropoff location. Create speed columns"
   ]
  },
  {
   "cell_type": "code",
   "execution_count": 4,
   "metadata": {
    "collapsed": false
   },
   "outputs": [],
   "source": [
    "train['great_circle_distance']=train.apply(lambda row: great_circle((row['pickup_latitude'],row['pickup_longitude']),(row['dropoff_latitude'],row['dropoff_longitude'])).meters,axis=1)\n",
    "train['speed']=train['distance']/train['trip_duration']*3.6\n",
    "train['speed_fast_route']=train['distance']/train['duration']*3.6\n",
    "train['speed_great_circle']=train['great_circle_distance']/train['trip_duration']*3.6\n"
   ]
  },
  {
   "cell_type": "markdown",
   "metadata": {},
   "source": [
    "Remove pickup_date since it's the same day as weather report date."
   ]
  },
  {
   "cell_type": "code",
   "execution_count": 5,
   "metadata": {
    "collapsed": false
   },
   "outputs": [],
   "source": [
    "del train['pickup_date']"
   ]
  },
  {
   "cell_type": "markdown",
   "metadata": {},
   "source": [
    "Remove a row where the fastest route information is missing. "
   ]
  },
  {
   "cell_type": "code",
   "execution_count": 24,
   "metadata": {
    "collapsed": false
   },
   "outputs": [
    {
     "data": {
      "text/html": [
       "<div>\n",
       "<table border=\"1\" class=\"dataframe\">\n",
       "  <thead>\n",
       "    <tr style=\"text-align: right;\">\n",
       "      <th></th>\n",
       "      <th>id</th>\n",
       "      <th>vendor_id</th>\n",
       "      <th>pickup_datetime</th>\n",
       "      <th>dropoff_datetime</th>\n",
       "      <th>passenger_count</th>\n",
       "      <th>pickup_longitude</th>\n",
       "      <th>pickup_latitude</th>\n",
       "      <th>dropoff_longitude</th>\n",
       "      <th>dropoff_latitude</th>\n",
       "      <th>store_and_fwd_flag</th>\n",
       "      <th>trip_duration</th>\n",
       "      <th>date</th>\n",
       "      <th>maximum temperature</th>\n",
       "      <th>minimum temperature</th>\n",
       "      <th>average temperature</th>\n",
       "      <th>precipitation</th>\n",
       "      <th>snow fall</th>\n",
       "      <th>snow depth</th>\n",
       "      <th>distance</th>\n",
       "      <th>duration</th>\n",
       "      <th>route_cooridnates</th>\n",
       "      <th>great_circle_distance</th>\n",
       "      <th>speed</th>\n",
       "      <th>speed_fast_route</th>\n",
       "      <th>speed_great_circle</th>\n",
       "    </tr>\n",
       "  </thead>\n",
       "  <tbody>\n",
       "    <tr>\n",
       "      <th>482448</th>\n",
       "      <td>id2767091</td>\n",
       "      <td>1</td>\n",
       "      <td>2016-04-29 02:46:41</td>\n",
       "      <td>2016-04-29 02:48:38</td>\n",
       "      <td>1</td>\n",
       "      <td>-73.993896</td>\n",
       "      <td>40.751396</td>\n",
       "      <td>-73.993866</td>\n",
       "      <td>40.751396</td>\n",
       "      <td>N</td>\n",
       "      <td>117</td>\n",
       "      <td>2016-04-29</td>\n",
       "      <td>58</td>\n",
       "      <td>45</td>\n",
       "      <td>51.5</td>\n",
       "      <td>0.05</td>\n",
       "      <td>0.0</td>\n",
       "      <td>0</td>\n",
       "      <td>NaN</td>\n",
       "      <td>NaN</td>\n",
       "      <td>NaN</td>\n",
       "      <td>2.571391</td>\n",
       "      <td>NaN</td>\n",
       "      <td>NaN</td>\n",
       "      <td>0.07912</td>\n",
       "    </tr>\n",
       "  </tbody>\n",
       "</table>\n",
       "</div>"
      ],
      "text/plain": [
       "               id  vendor_id      pickup_datetime     dropoff_datetime  \\\n",
       "482448  id2767091          1  2016-04-29 02:46:41  2016-04-29 02:48:38   \n",
       "\n",
       "        passenger_count  pickup_longitude  pickup_latitude  dropoff_longitude  \\\n",
       "482448                1        -73.993896        40.751396         -73.993866   \n",
       "\n",
       "        dropoff_latitude store_and_fwd_flag  trip_duration        date  \\\n",
       "482448         40.751396                  N            117  2016-04-29   \n",
       "\n",
       "        maximum temperature  minimum temperature  average temperature  \\\n",
       "482448                   58                   45                 51.5   \n",
       "\n",
       "       precipitation snow fall snow depth  distance  duration  \\\n",
       "482448          0.05       0.0          0       NaN       NaN   \n",
       "\n",
       "       route_cooridnates  great_circle_distance  speed  speed_fast_route  \\\n",
       "482448               NaN               2.571391    NaN               NaN   \n",
       "\n",
       "        speed_great_circle  \n",
       "482448             0.07912  "
      ]
     },
     "execution_count": 24,
     "metadata": {},
     "output_type": "execute_result"
    }
   ],
   "source": [
    "train[train['distance'].isnull()]"
   ]
  },
  {
   "cell_type": "code",
   "execution_count": 6,
   "metadata": {
    "collapsed": false
   },
   "outputs": [
    {
     "name": "stdout",
     "output_type": "stream",
     "text": [
      "(1458643, 25)\n"
     ]
    }
   ],
   "source": [
    "train=train[train['distance'].notnull()]\n",
    "print(train.shape)"
   ]
  },
  {
   "cell_type": "markdown",
   "metadata": {
    "collapsed": true
   },
   "source": [
    "### Define criteria to clean the data\n",
    "\n",
    "\n",
    "     \n",
    "     \n",
    "#### 3. Trip duration must be larger than zero.\n",
    "\n",
    "\n",
    "     trip_duration>0\n",
    " \n",
    " \n",
    "\n",
    "     "
   ]
  },
  {
   "cell_type": "code",
   "execution_count": 7,
   "metadata": {
    "collapsed": false
   },
   "outputs": [
    {
     "name": "stdout",
     "output_type": "stream",
     "text": [
      "(1458643, 25)\n"
     ]
    }
   ],
   "source": [
    "train=train[train['trip_duration']>0]\n",
    "print(train.shape)\n",
    "\n"
   ]
  },
  {
   "cell_type": "code",
   "execution_count": 8,
   "metadata": {
    "collapsed": false
   },
   "outputs": [
    {
     "data": {
      "text/plain": [
       "(1458643, 25)"
      ]
     },
     "execution_count": 8,
     "metadata": {},
     "output_type": "execute_result"
    }
   ],
   "source": [
    "train.shape"
   ]
  },
  {
   "cell_type": "code",
   "execution_count": 9,
   "metadata": {
    "collapsed": false
   },
   "outputs": [],
   "source": [
    "train['snow fall']=train['snow fall'].apply(lambda x: 0.001 if x=='T' else x)\n",
    "train['precipitation']=train['precipitation'].apply(lambda x: 0.001 if x=='T' else x)\n",
    "train['snow depth']=train['snow depth'].apply(lambda x: 0.001 if x=='T' else x)"
   ]
  },
  {
   "cell_type": "code",
   "execution_count": 31,
   "metadata": {
    "collapsed": false
   },
   "outputs": [
    {
     "name": "stdout",
     "output_type": "stream",
     "text": [
      "<class 'pandas.core.frame.DataFrame'>\n",
      "Int64Index: 1457392 entries, 0 to 1458643\n",
      "Data columns (total 25 columns):\n",
      "id                       1457392 non-null object\n",
      "vendor_id                1457392 non-null int64\n",
      "pickup_datetime          1457392 non-null object\n",
      "dropoff_datetime         1457392 non-null object\n",
      "passenger_count          1457392 non-null int64\n",
      "pickup_longitude         1457392 non-null float64\n",
      "pickup_latitude          1457392 non-null float64\n",
      "dropoff_longitude        1457392 non-null float64\n",
      "dropoff_latitude         1457392 non-null float64\n",
      "store_and_fwd_flag       1457392 non-null object\n",
      "trip_duration            1457392 non-null int64\n",
      "date                     1457392 non-null object\n",
      "maximum temperature      1457392 non-null int64\n",
      "minimum temperature      1457392 non-null int64\n",
      "average temperature      1457392 non-null float64\n",
      "precipitation            1457392 non-null object\n",
      "snow fall                1457392 non-null object\n",
      "snow depth               1457392 non-null object\n",
      "distance                 1457392 non-null float64\n",
      "duration                 1457392 non-null float64\n",
      "route_cooridnates        1457392 non-null object\n",
      "great_circle_distance    1457392 non-null float64\n",
      "speed                    1457392 non-null float64\n",
      "speed_fast_route         1451437 non-null float64\n",
      "speed_great_circle       1457392 non-null float64\n",
      "dtypes: float64(11), int64(5), object(9)\n",
      "memory usage: 289.1+ MB\n"
     ]
    }
   ],
   "source": [
    "train.info()"
   ]
  },
  {
   "cell_type": "code",
   "execution_count": 10,
   "metadata": {
    "collapsed": false
   },
   "outputs": [],
   "source": [
    "train.to_csv(\"train_full_parsed_clean2.1.csv\",index=False)"
   ]
  },
  {
   "cell_type": "code",
   "execution_count": 11,
   "metadata": {
    "collapsed": false
   },
   "outputs": [],
   "source": [
    "train['pickup_datetime'] = pd.to_datetime(train.pickup_datetime)\n",
    "train['pickup_hour'] = train['pickup_datetime'].dt.hour\n",
    "train['pickup_weekday'] = train['pickup_datetime'].dt.weekday\n",
    "train['pickup_month']=train['pickup_datetime'].dt.month\n",
    "train['snow depth']=train['snow depth'].apply(lambda x: float(x) if x!='T' else 0.001)\n",
    "train['snow']=train['snow depth'].apply(lambda x: 1 if x>0.01 else 0)\n",
    "\n",
    "train['pickup_date']=train['pickup_datetime'].dt.date\n",
    "\n",
    "def holiday(x):\n",
    "    x1=x.date()\n",
    "    if x1 in (datetime.date(2016,1,18),datetime.date(2016,2,15),datetime.date(2016,5,30),datetime.date(2016,5,28),datetime.date(2016,6,19)):\n",
    "        return 1\n",
    "    else:\n",
    "        return 0\n",
    "    \n",
    "train['holiday']=train['pickup_datetime'].apply(lambda x: holiday(x))    \n",
    "\n",
    "def hour_count(date,hour):\n",
    "    return (date.date()-datetime.date(2016,1,1)).days*24+hour\n",
    "\n",
    "train['hour_count']=train.apply(lambda row: hour_count(row['pickup_datetime'],row['pickup_hour']),axis=1)\n",
    "\n",
    "train['great_circle_distance']=train.apply(lambda row: great_circle((row['pickup_latitude'],row['pickup_longitude']),(row['dropoff_latitude'],row['dropoff_longitude'])).meters,axis=1)"
   ]
  },
  {
   "cell_type": "code",
   "execution_count": 12,
   "metadata": {
    "collapsed": false
   },
   "outputs": [
    {
     "name": "stdout",
     "output_type": "stream",
     "text": [
      "<class 'pandas.core.frame.DataFrame'>\n",
      "Int64Index: 1458643 entries, 0 to 1458643\n",
      "Data columns (total 32 columns):\n",
      "id                       1458643 non-null object\n",
      "vendor_id                1458643 non-null int64\n",
      "pickup_datetime          1458643 non-null datetime64[ns]\n",
      "dropoff_datetime         1458643 non-null object\n",
      "passenger_count          1458643 non-null int64\n",
      "pickup_longitude         1458643 non-null float64\n",
      "pickup_latitude          1458643 non-null float64\n",
      "dropoff_longitude        1458643 non-null float64\n",
      "dropoff_latitude         1458643 non-null float64\n",
      "store_and_fwd_flag       1458643 non-null object\n",
      "trip_duration            1458643 non-null int64\n",
      "date                     1458643 non-null object\n",
      "maximum temperature      1458643 non-null int64\n",
      "minimum temperature      1458643 non-null int64\n",
      "average temperature      1458643 non-null float64\n",
      "precipitation            1458643 non-null object\n",
      "snow fall                1458643 non-null object\n",
      "snow depth               1458643 non-null float64\n",
      "distance                 1458643 non-null float64\n",
      "duration                 1458643 non-null float64\n",
      "route_cooridnates        1458643 non-null object\n",
      "great_circle_distance    1458643 non-null float64\n",
      "speed                    1458643 non-null float64\n",
      "speed_fast_route         1452657 non-null float64\n",
      "speed_great_circle       1458643 non-null float64\n",
      "pickup_hour              1458643 non-null int64\n",
      "pickup_weekday           1458643 non-null int64\n",
      "pickup_month             1458643 non-null int64\n",
      "snow                     1458643 non-null int64\n",
      "pickup_date              1458643 non-null object\n",
      "holiday                  1458643 non-null int64\n",
      "hour_count               1458643 non-null int64\n",
      "dtypes: datetime64[ns](1), float64(12), int64(11), object(8)\n",
      "memory usage: 367.2+ MB\n"
     ]
    }
   ],
   "source": [
    "train.info()"
   ]
  },
  {
   "cell_type": "code",
   "execution_count": 13,
   "metadata": {
    "collapsed": false
   },
   "outputs": [],
   "source": [
    "feature=['id','trip_duration','vendor_id','pickup_datetime','pickup_longitude','pickup_latitude','dropoff_longitude','dropoff_latitude',\n",
    "        'great_circle_distance','duration','speed','speed_great_circle','hour_count','passenger_count','pickup_hour','pickup_weekday','pickup_month','snow','holiday',\n",
    "        'distance','route_cooridnates']\n",
    "train[feature].to_csv(\"train_full_parsed_clean3.1.csv\",index=False)"
   ]
  },
  {
   "cell_type": "code",
   "execution_count": 2,
   "metadata": {
    "collapsed": true
   },
   "outputs": [],
   "source": [
    "train=pd.read_csv(\"train_full_parsed_clean3.1.csv\")"
   ]
  },
  {
   "cell_type": "code",
   "execution_count": 3,
   "metadata": {
    "collapsed": true
   },
   "outputs": [],
   "source": [
    "def transformation(train,istrain):\n",
    "    \n",
    "    train['vendor_id'] = train['vendor_id'].map( {1: 0, 2: 1} ).astype(int)\n",
    "    \n",
    "    temp = pd.get_dummies(train['pickup_hour'],prefix='pickup_hour')\n",
    "    train = pd.concat([train,temp],axis=1)\n",
    "    train = train.drop([\"pickup_hour\"], axis=1)\n",
    "\n",
    "    temp = pd.get_dummies(train['pickup_weekday'],prefix='pickup_weekday')\n",
    "    train = pd.concat([train,temp],axis=1)\n",
    "    train = train.drop([\"pickup_weekday\"], axis=1)\n",
    "\n",
    "    temp = pd.get_dummies(train['pickup_month'],prefix='pickup_month')\n",
    "    train = pd.concat([train,temp],axis=1)\n",
    "    train = train.drop([\"pickup_month\"], axis=1)\n",
    "\n",
    "    temp = pd.get_dummies(train['passenger_count'],prefix='passenger_count')\n",
    "    train = pd.concat([train,temp],axis=1)\n",
    "    train = train.drop([\"passenger_count\"], axis=1)\n",
    "    \n",
    "    train['log_duration']=np.log(train['duration'].values+1)\n",
    "    train=train.drop([\"duration\"], axis=1)\n",
    "    if istrain==\"Y\":\n",
    "        train['log_trip_duration']=np.log(train['trip_duration'].values+1)\n",
    "        train=train.drop([\"trip_duration\"], axis=1)\n",
    "    \n",
    "    return train"
   ]
  },
  {
   "cell_type": "code",
   "execution_count": 4,
   "metadata": {
    "collapsed": true
   },
   "outputs": [],
   "source": [
    "train=transformation(train,istrain=\"Y\")"
   ]
  },
  {
   "cell_type": "code",
   "execution_count": 16,
   "metadata": {
    "collapsed": false
   },
   "outputs": [
    {
     "name": "stdout",
     "output_type": "stream",
     "text": [
      "<class 'pandas.core.frame.DataFrame'>\n",
      "Int64Index: 1458643 entries, 0 to 1458643\n",
      "Data columns (total 75 columns):\n",
      "id                       1458643 non-null object\n",
      "vendor_id                1458643 non-null int32\n",
      "pickup_datetime          1458643 non-null datetime64[ns]\n",
      "dropoff_datetime         1458643 non-null object\n",
      "pickup_longitude         1458643 non-null float64\n",
      "pickup_latitude          1458643 non-null float64\n",
      "dropoff_longitude        1458643 non-null float64\n",
      "dropoff_latitude         1458643 non-null float64\n",
      "store_and_fwd_flag       1458643 non-null object\n",
      "date                     1458643 non-null object\n",
      "maximum temperature      1458643 non-null int64\n",
      "minimum temperature      1458643 non-null int64\n",
      "average temperature      1458643 non-null float64\n",
      "precipitation            1458643 non-null object\n",
      "snow fall                1458643 non-null object\n",
      "snow depth               1458643 non-null float64\n",
      "distance                 1458643 non-null float64\n",
      "route_cooridnates        1458643 non-null object\n",
      "great_circle_distance    1458643 non-null float64\n",
      "speed                    1458643 non-null float64\n",
      "speed_fast_route         1452657 non-null float64\n",
      "speed_great_circle       1458643 non-null float64\n",
      "snow                     1458643 non-null int64\n",
      "pickup_date              1458643 non-null object\n",
      "holiday                  1458643 non-null int64\n",
      "hour_count               1458643 non-null int64\n",
      "pickup_hour_0            1458643 non-null uint8\n",
      "pickup_hour_1            1458643 non-null uint8\n",
      "pickup_hour_2            1458643 non-null uint8\n",
      "pickup_hour_3            1458643 non-null uint8\n",
      "pickup_hour_4            1458643 non-null uint8\n",
      "pickup_hour_5            1458643 non-null uint8\n",
      "pickup_hour_6            1458643 non-null uint8\n",
      "pickup_hour_7            1458643 non-null uint8\n",
      "pickup_hour_8            1458643 non-null uint8\n",
      "pickup_hour_9            1458643 non-null uint8\n",
      "pickup_hour_10           1458643 non-null uint8\n",
      "pickup_hour_11           1458643 non-null uint8\n",
      "pickup_hour_12           1458643 non-null uint8\n",
      "pickup_hour_13           1458643 non-null uint8\n",
      "pickup_hour_14           1458643 non-null uint8\n",
      "pickup_hour_15           1458643 non-null uint8\n",
      "pickup_hour_16           1458643 non-null uint8\n",
      "pickup_hour_17           1458643 non-null uint8\n",
      "pickup_hour_18           1458643 non-null uint8\n",
      "pickup_hour_19           1458643 non-null uint8\n",
      "pickup_hour_20           1458643 non-null uint8\n",
      "pickup_hour_21           1458643 non-null uint8\n",
      "pickup_hour_22           1458643 non-null uint8\n",
      "pickup_hour_23           1458643 non-null uint8\n",
      "pickup_weekday_0         1458643 non-null uint8\n",
      "pickup_weekday_1         1458643 non-null uint8\n",
      "pickup_weekday_2         1458643 non-null uint8\n",
      "pickup_weekday_3         1458643 non-null uint8\n",
      "pickup_weekday_4         1458643 non-null uint8\n",
      "pickup_weekday_5         1458643 non-null uint8\n",
      "pickup_weekday_6         1458643 non-null uint8\n",
      "pickup_month_1           1458643 non-null uint8\n",
      "pickup_month_2           1458643 non-null uint8\n",
      "pickup_month_3           1458643 non-null uint8\n",
      "pickup_month_4           1458643 non-null uint8\n",
      "pickup_month_5           1458643 non-null uint8\n",
      "pickup_month_6           1458643 non-null uint8\n",
      "passenger_count_0        1458643 non-null uint8\n",
      "passenger_count_1        1458643 non-null uint8\n",
      "passenger_count_2        1458643 non-null uint8\n",
      "passenger_count_3        1458643 non-null uint8\n",
      "passenger_count_4        1458643 non-null uint8\n",
      "passenger_count_5        1458643 non-null uint8\n",
      "passenger_count_6        1458643 non-null uint8\n",
      "passenger_count_7        1458643 non-null uint8\n",
      "passenger_count_8        1458643 non-null uint8\n",
      "passenger_count_9        1458643 non-null uint8\n",
      "log_duration             1458643 non-null float64\n",
      "log_trip_duration        1458643 non-null float64\n",
      "dtypes: datetime64[ns](1), float64(13), int32(1), int64(5), object(8), uint8(47)\n",
      "memory usage: 382.5+ MB\n"
     ]
    }
   ],
   "source": [
    "train.info()"
   ]
  },
  {
   "cell_type": "code",
   "execution_count": 5,
   "metadata": {
    "collapsed": false
   },
   "outputs": [],
   "source": [
    "feature_out=['id','log_duration', 'log_trip_duration', 'pickup_longitude', 'pickup_latitude',\n",
    "       'dropoff_longitude', 'dropoff_latitude', 'great_circle_distance','distance','speed_great_circle','hour_count',\n",
    "       'snow', 'holiday', 'vendor_id', 'pickup_hour_0',\n",
    "       'pickup_hour_1', 'pickup_hour_2', 'pickup_hour_3', 'pickup_hour_4',\n",
    "       'pickup_hour_5', 'pickup_hour_6', 'pickup_hour_7', 'pickup_hour_8',\n",
    "       'pickup_hour_9', 'pickup_hour_10', 'pickup_hour_11',\n",
    "       'pickup_hour_12', 'pickup_hour_13', 'pickup_hour_14',\n",
    "       'pickup_hour_15', 'pickup_hour_16', 'pickup_hour_17',\n",
    "       'pickup_hour_18', 'pickup_hour_19', 'pickup_hour_20',\n",
    "       'pickup_hour_21', 'pickup_hour_22', 'pickup_hour_23',\n",
    "       'pickup_weekday_0', 'pickup_weekday_1', 'pickup_weekday_2',\n",
    "       'pickup_weekday_3', 'pickup_weekday_4', 'pickup_weekday_5',\n",
    "       'pickup_weekday_6', 'pickup_month_1', 'pickup_month_2',\n",
    "       'pickup_month_3', 'pickup_month_4', 'pickup_month_5',\n",
    "       'pickup_month_6', 'passenger_count_0', 'passenger_count_1',\n",
    "       'passenger_count_2', 'passenger_count_3', 'passenger_count_4',\n",
    "       'passenger_count_5', 'passenger_count_6', 'passenger_count_7',\n",
    "       'route_cooridnates']\n",
    "train.to_csv(\"train_full_parsed_clean5.1.csv\",index=False, columns=feature_out)"
   ]
  },
  {
   "cell_type": "code",
   "execution_count": null,
   "metadata": {
    "collapsed": true
   },
   "outputs": [],
   "source": []
  }
 ],
 "metadata": {
  "anaconda-cloud": {},
  "kernelspec": {
   "display_name": "Python [default]",
   "language": "python",
   "name": "python3"
  },
  "language_info": {
   "codemirror_mode": {
    "name": "ipython",
    "version": 3
   },
   "file_extension": ".py",
   "mimetype": "text/x-python",
   "name": "python",
   "nbconvert_exporter": "python",
   "pygments_lexer": "ipython3",
   "version": "3.5.2"
  }
 },
 "nbformat": 4,
 "nbformat_minor": 1
}
