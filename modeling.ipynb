{
 "cells": [
  {
   "cell_type": "code",
   "execution_count": 1,
   "metadata": {
    "collapsed": true
   },
   "outputs": [],
   "source": [
    "import pandas as pd\n",
    "import numpy as np\n",
    "import datetime\n",
    "from geopy.distance import great_circle"
   ]
  },
  {
   "cell_type": "code",
   "execution_count": 6,
   "metadata": {
    "collapsed": false
   },
   "outputs": [],
   "source": [
    "train=pd.read_csv(\"train_full_parsed_clean2.csv\")\n",
    "#train=pd.read_csv(\"full_test_parsed.csv\")"
   ]
  },
  {
   "cell_type": "code",
   "execution_count": 7,
   "metadata": {
    "collapsed": false
   },
   "outputs": [],
   "source": [
    "train['pickup_datetime'] = pd.to_datetime(train.pickup_datetime)\n",
    "train['pickup_hour'] = train['pickup_datetime'].dt.hour\n",
    "train['pickup_weekday'] = train['pickup_datetime'].dt.weekday\n",
    "train['pickup_month']=train['pickup_datetime'].dt.month\n",
    "train['snow depth']=train['snow depth'].apply(lambda x: float(x) if x!='T' else 0.001)\n",
    "train['snow']=train['snow depth'].apply(lambda x: 1 if x>0.01 else 0)\n",
    "\n",
    "\n",
    "\n",
    "def holiday(x):\n",
    "    x1=x.date()\n",
    "    if x1 in (datetime.date(2016,1,18),datetime.date(2016,2,15),datetime.date(2016,5,30),datetime.date(2016,5,28),datetime.date(2016,6,19)):\n",
    "        return 1\n",
    "    else:\n",
    "        return 0\n",
    "    \n",
    "train['holiday']=train['pickup_datetime'].apply(lambda x: holiday(x))    "
   ]
  },
  {
   "cell_type": "code",
   "execution_count": 8,
   "metadata": {
    "collapsed": false
   },
   "outputs": [],
   "source": [
    "train['great_circle_distance']=train.apply(lambda row: great_circle((row['pickup_latitude'],row['pickup_longitude']),(row['dropoff_latitude'],row['dropoff_longitude'])).meters,axis=1)"
   ]
  },
  {
   "cell_type": "code",
   "execution_count": 9,
   "metadata": {
    "collapsed": false
   },
   "outputs": [
    {
     "name": "stdout",
     "output_type": "stream",
     "text": [
      "<class 'pandas.core.frame.DataFrame'>\n",
      "RangeIndex: 1449431 entries, 0 to 1449430\n",
      "Data columns (total 30 columns):\n",
      "id                       1449431 non-null object\n",
      "vendor_id                1449431 non-null int64\n",
      "pickup_datetime          1449431 non-null datetime64[ns]\n",
      "dropoff_datetime         1449431 non-null object\n",
      "passenger_count          1449431 non-null int64\n",
      "pickup_longitude         1449431 non-null float64\n",
      "pickup_latitude          1449431 non-null float64\n",
      "dropoff_longitude        1449431 non-null float64\n",
      "dropoff_latitude         1449431 non-null float64\n",
      "store_and_fwd_flag       1449431 non-null object\n",
      "trip_duration            1449431 non-null int64\n",
      "date                     1449431 non-null object\n",
      "maximum temperature      1449431 non-null int64\n",
      "minimum temperature      1449431 non-null int64\n",
      "average temperature      1449431 non-null float64\n",
      "precipitation            1449431 non-null float64\n",
      "snow fall                1449431 non-null float64\n",
      "snow depth               1449431 non-null float64\n",
      "distance                 1449431 non-null float64\n",
      "duration                 1449431 non-null float64\n",
      "route_cooridnates        1449431 non-null object\n",
      "great_circle_distance    1449431 non-null float64\n",
      "speed                    1449431 non-null float64\n",
      "speed_fast_route         1449352 non-null float64\n",
      "speed_great_circle       1449431 non-null float64\n",
      "pickup_hour              1449431 non-null int64\n",
      "pickup_weekday           1449431 non-null int64\n",
      "pickup_month             1449431 non-null int64\n",
      "snow                     1449431 non-null int64\n",
      "holiday                  1449431 non-null int64\n",
      "dtypes: datetime64[ns](1), float64(14), int64(10), object(5)\n",
      "memory usage: 331.7+ MB\n"
     ]
    }
   ],
   "source": [
    "train.info()"
   ]
  },
  {
   "cell_type": "code",
   "execution_count": 10,
   "metadata": {
    "collapsed": false
   },
   "outputs": [],
   "source": [
    "feature=['vendor_id','pickup_datetime','pickup_longitude','pickup_latitude','dropoff_longitude','dropoff_latitude','trip_duration',\n",
    "        'great_circle_distance','duration','passenger_count','pickup_hour','pickup_weekday','pickup_month','snow','holiday',\n",
    "        'distance','route_cooridnates']"
   ]
  },
  {
   "cell_type": "code",
   "execution_count": 11,
   "metadata": {
    "collapsed": false
   },
   "outputs": [],
   "source": [
    "train[feature].to_csv(\"train_full_parsed_clean3.csv\",index=False)"
   ]
  },
  {
   "cell_type": "code",
   "execution_count": null,
   "metadata": {
    "collapsed": false
   },
   "outputs": [],
   "source": [
    "feature=['id','vendor_id','pickup_datetime','pickup_longitude','pickup_latitude','dropoff_longitude','dropoff_latitude',\n",
    "        'great_circle_distance','duration','passenger_count','pickup_hour','pickup_weekday','pickup_month','snow','holiday',\n",
    "        'distance']\n",
    "train[feature].to_csv(\"test_full_parsed_clean.csv\",index=False)"
   ]
  },
  {
   "cell_type": "code",
   "execution_count": null,
   "metadata": {
    "collapsed": true
   },
   "outputs": [],
   "source": []
  }
 ],
 "metadata": {
  "anaconda-cloud": {},
  "kernelspec": {
   "display_name": "Python [default]",
   "language": "python",
   "name": "python3"
  },
  "language_info": {
   "codemirror_mode": {
    "name": "ipython",
    "version": 3
   },
   "file_extension": ".py",
   "mimetype": "text/x-python",
   "name": "python",
   "nbconvert_exporter": "python",
   "pygments_lexer": "ipython3",
   "version": "3.5.2"
  }
 },
 "nbformat": 4,
 "nbformat_minor": 2
}
